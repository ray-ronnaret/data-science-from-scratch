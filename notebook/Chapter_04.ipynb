{
 "cells": [
  {
   "cell_type": "markdown",
   "id": "b5ec5797",
   "metadata": {},
   "source": [
    "---"
   ]
  },
  {
   "cell_type": "markdown",
   "id": "d0832a46",
   "metadata": {},
   "source": [
    "# Chapter 4: Linear Algebra"
   ]
  },
  {
   "cell_type": "markdown",
   "id": "04071c94",
   "metadata": {},
   "source": [
    "---"
   ]
  },
  {
   "cell_type": "markdown",
   "id": "2a6862e5",
   "metadata": {},
   "source": [
    "## Vector\n",
    "Vector may be a list of one dimension numbers with each index stored the same symantics in my understanding\n",
    "\n",
    "\\begin{equation}\\vec{v_1} = \\begin{bmatrix}2 \\\\ 1 \\end{bmatrix} \n",
    "=\\begin{bmatrix}v_1 \\\\ v_2 \\end{bmatrix}\n",
    "=\\begin{bmatrix}v_i \\\\ v_j \\end{bmatrix}\n",
    "=\\begin{bmatrix}v_x \\\\ v_y \\end{bmatrix}\n",
    "\\end{equation}\n",
    "\n",
    "\n",
    "\\begin{equation}\\vec{v_2} = \\begin{bmatrix}4 \\\\ -3 \\\\2 \\end{bmatrix}\n",
    "=\\begin{bmatrix}v_1 \\\\ v_2 \\\\ v_3 \\end{bmatrix}  \n",
    "=\\begin{bmatrix}v_i \\\\ v_j \\\\ v_k \\end{bmatrix}  \n",
    "=\\begin{bmatrix}v_x \\\\ v_y \\\\ v_z \\end{bmatrix}  \n",
    "\\end{equation}\n",
    "\n",
    "\\begin{equation}\\overrightarrow{grades} = \\begin{bmatrix}exam_1 \\\\ exam_2 \\\\ exam_3 \\\\ exam_4 \\end{bmatrix}\n",
    "=\\begin{bmatrix}95 \\\\ 80 \\\\ 75 \\\\ 62 \\end{bmatrix}  \n",
    "\\end{equation}\n",
    "\n",
    "Simple built in ``list`` is satisfied but most of the time we use numpy. In this chapter the book leads us to build our own vector data type from scratch. Create data type ``Vector`` from ``typing`` using ``List``. We will use the ``Vector`` to define the function arguements and return value. ``height_weight_age`` is a vector store heigh,weight, and age, while ``grades`` the score from exams 4 times of a one person.\n",
    "\n",
    "\n"
   ]
  },
  {
   "cell_type": "code",
   "execution_count": 6,
   "id": "25b04ef7",
   "metadata": {},
   "outputs": [],
   "source": [
    "from typing import List\n",
    "\n",
    "Vector = List[float]\n",
    "\n",
    "height_weight_age = [70,  # inches,\n",
    "                     170, # pounds,\n",
    "                     40 ] # years\n",
    "\n",
    "grades = [95,   # exam1\n",
    "          80,   # exam2\n",
    "          75,   # exam3\n",
    "          62 ]  # exam4\n"
   ]
  },
  {
   "cell_type": "markdown",
   "id": "f819b06d",
   "metadata": {},
   "source": [
    "### Add/Subtract\n",
    "To add/subract vector is, add/subract each element together. The vector must be the same dimension.\n",
    "\n",
    "\\begin{equation}\n",
    "\\vec{v} = \\begin{bmatrix}3 \\\\ -1 \\end{bmatrix} \\;\\;\\; \\vec{s} = \\begin{bmatrix}2 \\\\ 4 \\end{bmatrix}\\end{equation} \n",
    "\n",
    "\\begin{equation}\n",
    "\\begin{aligned}\n",
    "\\vec{t}= \\vec{v} + \\vec{s} &= \\begin{bmatrix}v_x + s_x  \\\\ v_y + s_y \\end{bmatrix} \\\\  \n",
    "&= \\begin{bmatrix}3 +2 \\\\ -1 + 4 \\end{bmatrix} \\\\  \n",
    "&= \\begin{bmatrix}5 \\\\ 3\\end{bmatrix} \\\\  \n",
    "\\end{aligned}\n",
    "\\tag{Vector plus Vecotr}\\label{Vector plus Vecotr}\n",
    "\\end{equation}\n",
    "\n"
   ]
  },
  {
   "cell_type": "code",
   "execution_count": 7,
   "id": "e12227fc",
   "metadata": {},
   "outputs": [
    {
     "data": {
      "text/plain": [
       "([140, 130, 122, 104], [50, 30, 28, 20])"
      ]
     },
     "execution_count": 7,
     "metadata": {},
     "output_type": "execute_result"
    }
   ],
   "source": [
    "def add(v: Vector, w: Vector) -> Vector:\n",
    "    \"\"\"Adds corresponding elements\"\"\"\n",
    "    assert len(v) == len(w), \"vectors must be the same length\"\n",
    "\n",
    "    return [v_i + w_i for v_i, w_i in zip(v, w)]\n",
    "\n",
    "assert add([1, 2, 3], [4, 5, 6]) == [5, 7, 9]\n",
    "\n",
    "def subtract(v: Vector, w: Vector) -> Vector:\n",
    "    \"\"\"Subtracts corresponding elements\"\"\"\n",
    "    assert len(v) == len(w), \"vectors must be the same length\"\n",
    "\n",
    "    return [v_i - w_i for v_i, w_i in zip(v, w)]\n",
    "\n",
    "assert subtract([5, 7, 9], [4, 5, 6]) == [1, 2, 3]\n",
    "\n",
    "\n",
    "\n",
    "grades2 = [45,   # exam1\n",
    "          50,   # exam2\n",
    "          47,   # exam3\n",
    "          42 ]  # exam4\n",
    "add(grades,grades2), subtract(grades,grades2)"
   ]
  },
  {
   "cell_type": "markdown",
   "id": "47cd776f",
   "metadata": {},
   "source": [
    "### Sum of Vectors\n",
    "Interesting technic to assert and summary in python style, ``all()`` and using the  list comprehension to sum the list of  vectors instead loop call function ``add``."
   ]
  },
  {
   "cell_type": "code",
   "execution_count": 8,
   "id": "ad0cbb2f",
   "metadata": {},
   "outputs": [],
   "source": [
    "\n",
    "def vector_sum(vectors: List[Vector]) -> Vector:\n",
    "    \"\"\"Sums all corresponding elements\"\"\"\n",
    "    # Check that vectors is not empty\n",
    "    assert vectors, \"no vectors provided!\"\n",
    "\n",
    "    # Check the vectors are all the same size\n",
    "    num_elements = len(vectors[0])\n",
    "    assert all(len(v) == num_elements for v in vectors), \"different sizes!\"\n",
    "\n",
    "    # the i-th element of the result is the sum of every vector[i]\n",
    "    return [sum(vector[i] for vector in vectors)\n",
    "            for i in range(num_elements)]\n",
    "\n",
    "assert vector_sum([[1, 2], [3, 4], [5, 6], [7, 8]]) == [16, 20]\n"
   ]
  },
  {
   "cell_type": "markdown",
   "id": "a53d383a",
   "metadata": {},
   "source": [
    "### Vector scalar multiplication and mean\n",
    "\n",
    "Vector can multiply by scalar as decribe below.\n",
    "\n",
    "\\begin{equation}\n",
    "\\begin{aligned}\n",
    "\\lambda\\vec{v}&= \\lambda \\times \\begin{bmatrix}v_x \\\\ v_y \\end{bmatrix} = \\begin{bmatrix}\\lambda\\times v_x  \\\\ \\lambda\\times v_y \\end{bmatrix} \\\\  \n",
    "\\vec{v_2}&= 3 \\times \\vec{v_1} =  3 \\times \\begin{bmatrix}v_x \\\\ v_y \\end{bmatrix} = \\begin{bmatrix}3\\times 2  \\\\ 3\\times 1 \\end{bmatrix} = \\begin{bmatrix}6  \\\\ 3 \\end{bmatrix} \\\\  \n",
    " &= \\vec{v_1} + \\vec{v_1} + \\vec{v_1} = \\begin{bmatrix}v_x \\\\ v_y \\end{bmatrix} + \\begin{bmatrix}v_x \\\\ v_y \\end{bmatrix} + \\begin{bmatrix}v_x \\\\ v_y \\end{bmatrix} = \\begin{bmatrix} 2+2+2  \\\\ 1+1+1 \\end{bmatrix}  = \\begin{bmatrix}6  \\\\ 3 \\end{bmatrix}\n",
    "\\end{aligned}\n",
    "\\tag{Scalar Multiply}\\label{Scalar Multiply}\n",
    "\\end{equation}\n",
    "\n",
    "\n"
   ]
  },
  {
   "cell_type": "code",
   "execution_count": 12,
   "id": "5d5f39bd",
   "metadata": {},
   "outputs": [],
   "source": [
    "def scalar_multiply(c: float, v: Vector) -> Vector:\n",
    "    \"\"\"Multiplies every element by c\"\"\"\n",
    "    return [c * v_i for v_i in v]\n",
    "\n",
    "assert scalar_multiply(2, [1, 2, 3]) == [2, 4, 6]\n",
    "\n",
    "def vector_mean(vectors: List[Vector]) -> Vector:\n",
    "    \"\"\"Computes the element-wise average\"\"\"\n",
    "    n = len(vectors)\n",
    "    return scalar_multiply(1/n, vector_sum(vectors))\n",
    "\n",
    "assert vector_mean([[1, 2], [3, 4], [5, 6]]) == [3, 4]\n"
   ]
  },
  {
   "cell_type": "markdown",
   "id": "0ff3ef52",
   "metadata": {},
   "source": [
    "### DOT and sum sqaure\n",
    "\n",
    "Vector DOT products of two vectors define by the equations, note that the dot produc is commutative\n",
    "\n",
    "\\begin{equation}\n",
    "\\begin{aligned}\n",
    "\\vec{v} \\cdot \\vec{s} = \\vec{s} \\cdot \\vec{v} = \\mathbf{v}^\\mathbf{T}\\mathbf{s}  &=\\sum_{i=0}^{i=n} {v_i \\cdot s_i}  \\\\ \n",
    "&= (v_{1} \\cdot s_{1}) + (v_{2} \\cdot s_{2}) ... + \\; (v_{n} \\cdot s_{n}) \\\\ \n",
    "&= (v_{x} \\cdot s_{x}) + (v_{y} \\cdot s_{y}) ... + \\; (v_{n} \\cdot s_{n}) \\\\  \n",
    "&= (3 \\cdot 2 ) + (-1 \\cdot  4) \\\\  \n",
    "&= (3 \\times 2) + (-1 \\times 4) \\\\\n",
    "&= 2 \\\\  \n",
    "\\end{aligned}\n",
    "\\tag{Dot Product}\\label{Dot Product}\n",
    "\\end{equation}"
   ]
  },
  {
   "cell_type": "markdown",
   "id": "5a651a52",
   "metadata": {},
   "source": [
    "Dot product of a vector with itself equivalent to the sum square of all elements.\n",
    "\n",
    "\\begin{equation}\n",
    "\\begin{aligned}\n",
    "\\vec{v} \\cdot \\vec{v}  &=\\sum_{i=0}^{i=n} {v_i \\cdot v_i}  \\\\\n",
    "&= (v_{1} \\cdot v_{1}) + (v_{2} \\cdot v_{2}) ... + \\; (v_{n} \\cdot v_{n}) \\\\ \n",
    "&= (1 \\cdot  1) + (2 \\cdot  2) + (3 \\cdot  3) \\\\  \n",
    "&= (1 \\times 1) + (2 \\times 2) + (3 \\times 3) \\\\\n",
    "&= (1^2) + (2^2) + (3^2) \\\\\n",
    "&= 14 \\\\  \n",
    "\\end{aligned}\n",
    "\\tag{Sum of Sqaure}\\label{Sum of Square}\n",
    "\\end{equation}"
   ]
  },
  {
   "cell_type": "code",
   "execution_count": 12,
   "id": "82779a00",
   "metadata": {},
   "outputs": [],
   "source": [
    "def dot(v: Vector, w: Vector) -> float:\n",
    "    \"\"\"Computes v_1 * w_1 + ... + v_n * w_n\"\"\"\n",
    "    assert len(v) == len(w), \"vectors must be same length\"\n",
    "\n",
    "    return sum(v_i * w_i for v_i, w_i in zip(v, w))\n",
    "\n",
    "assert dot([1, 2, 3], [4, 5, 6]) == 32  # 1 * 4 + 2 * 5 + 3 * 6\n",
    "\n",
    "def sum_of_squares(v: Vector) -> float:\n",
    "    \"\"\"Returns v_1 * v_1 + ... + v_n * v_n\"\"\"\n",
    "    return dot(v, v)\n",
    "\n",
    "assert sum_of_squares([1, 2, 3]) == 14  # 1 * 1 + 2 * 2 + 3 * 3\n",
    "\n"
   ]
  },
  {
   "cell_type": "markdown",
   "id": "c9738d47",
   "metadata": {},
   "source": [
    "### Vector magnitude and Distances\n",
    "Magnitude of the vector is the square root of the sum of square of all elements \n",
    "\n",
    "\n",
    "\\begin{equation}\n",
    "\\begin{aligned}\n",
    "\\|\\vec{v}\\| &= \\sqrt{v_{1}^{2} + v_{2}^{2} ... + v_{n}^{2}}  \\\\\n",
    "\\|\\vec{v}\\| &= \\sqrt{v_{1}^{2} + v_{2}^{2}} \\\\\n",
    "            &= \\sqrt{3^{2} + 4^{2}} \\\\\n",
    "            &= \\sqrt{25} \\; = 5 \n",
    "\\end{aligned} \n",
    "\\tag{Magnitude}\\label{Magnitude}\n",
    "\\end{equation}"
   ]
  },
  {
   "cell_type": "markdown",
   "id": "5eff54aa",
   "metadata": {},
   "source": [
    "Calculate the distance of vectors in the cartesian system or points co-ordinate "
   ]
  },
  {
   "cell_type": "markdown",
   "id": "00e74e7f",
   "metadata": {},
   "source": [
    "\n",
    "$$\n",
    "\\vec{v}=\\begin{bmatrix}3 \\\\ 4 \\end{bmatrix} \\;\\;\\; \\vec{w} = \\begin{bmatrix}8 \\\\ 6 \\end{bmatrix} \\\\ \\\\\n",
    "$$\n",
    "\n",
    "\n",
    "\n",
    "\\begin{equation}\n",
    "\\begin{aligned}\n",
    "Square\\;Distance(\\vec{v},\\vec{w}) &=  \\sum_{i=0}^{i=n} {(v_i - w_i)^2}  \\\\\n",
    "    &=(v_{1} - w_{1})^{2} + (v_{2} - w_{2})^{2} \\\\ \n",
    "    &=(3 - 8)^{2} + (4 -6)^{2} \\\\\n",
    "    &=-5^{2} + -2^{2} \\\\\n",
    "    &=29 \n",
    "\\end{aligned} \n",
    "\\tag{Sqaure Disctance}\\label{Sqaure Disctance}\n",
    "\\end{equation}\n",
    "\n",
    "\n",
    "\n"
   ]
  },
  {
   "cell_type": "markdown",
   "id": "ff4ab1ec",
   "metadata": {},
   "source": [
    "\\begin{equation}\n",
    "\\begin{aligned}\n",
    "Distance(\\vec{v},\\vec{w}) &= \\sqrt{ \\sum_{i=0}^{i=n} {(v_i - w_i)^2}}  \\\\\n",
    "    &= \\sqrt{ (v_{1} - w_{1})^{2} + (v_{2} - w_{2})^{2}} \\\\\n",
    "    &= \\sqrt{ (3 - 8)^{2} + (4 -6)^{2}} \\\\\n",
    "    &= \\sqrt{-5^{2} + -2^{2}} \\\\\n",
    "    &= \\sqrt{29} \\; \\approx 5.385\n",
    "\\end{aligned} \n",
    "\\tag{Distance}\\label{Distance}\n",
    "\\end{equation}"
   ]
  },
  {
   "cell_type": "code",
   "execution_count": 18,
   "id": "790eea61",
   "metadata": {},
   "outputs": [
    {
     "name": "stdout",
     "output_type": "stream",
     "text": [
      "29\n",
      "5.385164807134504\n",
      "5.385164807134504\n"
     ]
    }
   ],
   "source": [
    "import math\n",
    "\n",
    "def magnitude(v: Vector) -> float:\n",
    "    \"\"\"Returns the magnitude (or length) of v\"\"\"\n",
    "    return math.sqrt(sum_of_squares(v))   # math.sqrt is square root function\n",
    "\n",
    "assert magnitude([3, 4]) == 5\n",
    "\n",
    "def squared_distance(v: Vector, w: Vector) -> float:\n",
    "    \"\"\"Computes (v_1 - w_1) ** 2 + ... + (v_n - w_n) ** 2\"\"\"\n",
    "    return sum_of_squares(subtract(v, w))\n",
    "print(squared_distance([3, 4],[8,6]))\n",
    "\n",
    "def distance(v: Vector, w: Vector) -> float:\n",
    "    \"\"\"Computes the distance between v and w\"\"\"\n",
    "    return math.sqrt(squared_distance(v, w))\n",
    "print(distance([3, 4],[8,6]))\n",
    "\n",
    "def distance(v: Vector, w: Vector) -> float:  # type: ignore\n",
    "    return magnitude(subtract(v, w))\n",
    "print(distance([3, 4],[8,6]))"
   ]
  },
  {
   "cell_type": "markdown",
   "id": "704cb852",
   "metadata": {},
   "source": [
    "---"
   ]
  },
  {
   "cell_type": "markdown",
   "id": "d5003d69",
   "metadata": {},
   "source": [
    "## Matrix\n",
    "Two dimensions row and column  data. \n",
    "\n",
    "\n",
    "\n",
    "\\begin{align*}\n",
    "A_{M\\times N} &=\n",
    "\\begin{bmatrix} \n",
    "        a_{11} & a_{12} & \\dots   & a_{1N} \\\\  \n",
    "        a_{21} & a_{22} & \\dots   & a_{2N} \\\\  \n",
    "        \\vdots & \\vdots & \\ddots & \\vdots \\\\ \n",
    "        a_{M1} & a_{M2} & \\dots  & a_{MN}\n",
    "\\end{bmatrix} \n",
    "\\\\ \\\\\n",
    "A_{3\\times3} &= \n",
    "\\begin{bmatrix} \n",
    "    v_1 & v_2 & v_3 \\\\  \n",
    "    v_4 & v_5 & v_6 \\\\ \n",
    "    v_7 & v_8 & v_9\n",
    "    \\end{bmatrix} \n",
    "= \\begin{bmatrix} \n",
    "    1 & 2 & 3 \\\\  \n",
    "    4 & 5 & 6 \\\\ \n",
    "    7 & 8 & 9\n",
    "    \\end{bmatrix}     \n",
    "\\end{align*} "
   ]
  },
  {
   "cell_type": "markdown",
   "id": "1f887414",
   "metadata": {},
   "source": [
    "Note that if a dimension is one, the matrix can be considerd as vector. If the row is fixed to one, we call **row vector** and if the vector is fixed column to be one, we call it is a **column vector**.\n",
    "\n",
    "\\begin{align*}\\text{Column vector} &= \\begin{bmatrix}2 \\\\ 1 \\\\ 3 \\end{bmatrix} \\\\\n",
    "\\text{Row vector} &= \\begin{bmatrix}2 & 1 & 3 \\end{bmatrix} \n",
    "\\end{align*}\n",
    "\n",
    "And column vector can be **Transpose** to row vector and vice versa. One dimension which one element may be considered as **Saclar**, isnt't it?\n",
    "\n",
    "In python usually use **numpy** but simple ``list`` or ``List`` also implement the matrix, in the book it intruduce the Matrix type from ``List``."
   ]
  },
  {
   "cell_type": "code",
   "execution_count": 33,
   "id": "6c6841fc",
   "metadata": {},
   "outputs": [],
   "source": [
    "# Another type alias\n",
    "Matrix = List[List[float]]\n",
    "\n",
    "A = [[1, 2, 3],  # A has 2 rows and 3 columns\n",
    "     [4, 5, 6]]\n",
    "\n",
    "B = [[1, 2],     # B has 3 rows and 2 columns\n",
    "     [3, 4],\n",
    "     [5, 6]]\n",
    "ROW_VECTOR = [[1,2,3]]\n",
    "COL_VECTOR = [[1],[2],[3]]"
   ]
  },
  {
   "cell_type": "markdown",
   "id": "37417096",
   "metadata": {},
   "source": [
    "### Matrix Dimension\n",
    "Dimension of the matrix determine by the shape of the matrix list (or numpy array)"
   ]
  },
  {
   "cell_type": "code",
   "execution_count": 34,
   "id": "b2315df7",
   "metadata": {},
   "outputs": [
    {
     "name": "stdout",
     "output_type": "stream",
     "text": [
      "(2, 3)\n",
      "(3, 2)\n",
      "Row vector  [[1, 2, 3]]  shape  (1, 3)\n",
      "Row vector  [[1], [2], [3]]  shape  (3, 1)\n"
     ]
    }
   ],
   "source": [
    "from typing import Tuple\n",
    "\n",
    "def shape(A: Matrix) -> Tuple[int, int]:\n",
    "    \"\"\"Returns (# of rows of A, # of columns of A)\"\"\"\n",
    "    num_rows = len(A)\n",
    "    num_cols = len(A[0]) if A else 0   # number of elements in first row\n",
    "    return num_rows, num_cols\n",
    "\n",
    "assert shape([[1, 2, 3], [4, 5, 6]]) == (2, 3)  # 2 rows, 3 columns\n",
    "\n",
    "def get_row(A: Matrix, i: int) -> Vector:\n",
    "    \"\"\"Returns the i-th row of A (as a Vector)\"\"\"\n",
    "    return A[i]             # A[i] is already the ith row\n",
    "\n",
    "def get_column(A: Matrix, j: int) -> Vector:\n",
    "    \"\"\"Returns the j-th column of A (as a Vector)\"\"\"\n",
    "    return [A_i[j]          # jth element of row A_i\n",
    "            for A_i in A]   # for each row A_i\n",
    "\n",
    "print(shape(A))\n",
    "print(shape(B))\n",
    "print('Row vector ',ROW_VECTOR, ' shape ',shape(ROW_VECTOR))\n",
    "print('Row vector ',COL_VECTOR, ' shape ',shape(COL_VECTOR))"
   ]
  },
  {
   "cell_type": "markdown",
   "id": "6ccc1144",
   "metadata": {},
   "source": [
    "### Identity Matrix\n",
    "\n",
    "Matrix that all diagonal element ($a_{1 1},a_{2 2}, \\dots a_{n n}$) is one and the remains are all zero called **identity matrix**\n",
    "\n",
    "\\begin{bmatrix} \n",
    "      1 & 0 & 0 & 0 \\\\ \n",
    "      0 & 1 & 0 & 0 \\\\ \n",
    "      0 & 0 & 1 & 0 \\\\\n",
    "      0 & 0 & 0 & 1 \n",
    "\\end{bmatrix}\n",
    "\n",
    "Function ``make_metrix(num_rows, num_cols, entry_fn)`` accepts number of rows and columns with a ``Callabel[[int,int]],float`` to return a matrix. The function ``identity_matrix(n:int)`` that retrun $ N\\times N$ identity matrix, noticed the ``lambda`` send to ``make_matrix`` as a callable object. "
   ]
  },
  {
   "cell_type": "code",
   "execution_count": 32,
   "id": "e24f2e4d",
   "metadata": {},
   "outputs": [],
   "source": [
    "from typing import Callable\n",
    "\n",
    "def make_matrix(num_rows: int,\n",
    "                num_cols: int,\n",
    "                entry_fn: Callable[[int, int], float]) -> Matrix:\n",
    "    \"\"\"\n",
    "    Returns a num_rows x num_cols matrix\n",
    "    whose (i,j)-th entry is entry_fn(i, j)\n",
    "    \"\"\"\n",
    "    return [[entry_fn(i, j)             # given i, create a list\n",
    "             for j in range(num_cols)]  #   [entry_fn(i, 0), ... ]\n",
    "            for i in range(num_rows)]   # create one list for each i\n",
    "\n",
    "def identity_matrix(n: int) -> Matrix:\n",
    "    \"\"\"Returns the n x n identity matrix\"\"\"\n",
    "    return make_matrix(n, n, lambda i, j: 1 if i == j else 0)\n",
    "\n",
    "assert identity_matrix(5) == [[1, 0, 0, 0, 0],\n",
    "                              [0, 1, 0, 0, 0],\n",
    "                              [0, 0, 1, 0, 0],\n",
    "                              [0, 0, 0, 1, 0],\n",
    "                              [0, 0, 0, 0, 1]]"
   ]
  },
  {
   "cell_type": "markdown",
   "id": "a9e4836e",
   "metadata": {},
   "source": [
    "Remains code from the book is about matrix representation for data from chapter one."
   ]
  },
  {
   "cell_type": "code",
   "execution_count": 35,
   "id": "c1205fce",
   "metadata": {},
   "outputs": [],
   "source": [
    "data = [[70, 170, 40],\n",
    "        [65, 120, 26],\n",
    "        [77, 250, 19],\n",
    "        # ....\n",
    "       ]\n",
    "\n",
    "friendships = [(0, 1), (0, 2), (1, 2), (1, 3), (2, 3), (3, 4),\n",
    "               (4, 5), (5, 6), (5, 7), (6, 8), (7, 8), (8, 9)]\n",
    "\n",
    "#            user 0  1  2  3  4  5  6  7  8  9\n",
    "#\n",
    "friend_matrix = [[0, 1, 1, 0, 0, 0, 0, 0, 0, 0],  # user 0\n",
    "                 [1, 0, 1, 1, 0, 0, 0, 0, 0, 0],  # user 1\n",
    "                 [1, 1, 0, 1, 0, 0, 0, 0, 0, 0],  # user 2\n",
    "                 [0, 1, 1, 0, 1, 0, 0, 0, 0, 0],  # user 3\n",
    "                 [0, 0, 0, 1, 0, 1, 0, 0, 0, 0],  # user 4\n",
    "                 [0, 0, 0, 0, 1, 0, 1, 1, 0, 0],  # user 5\n",
    "                 [0, 0, 0, 0, 0, 1, 0, 0, 1, 0],  # user 6\n",
    "                 [0, 0, 0, 0, 0, 1, 0, 0, 1, 0],  # user 7\n",
    "                 [0, 0, 0, 0, 0, 0, 1, 1, 0, 1],  # user 8\n",
    "                 [0, 0, 0, 0, 0, 0, 0, 0, 1, 0]]  # user 9\n",
    "\n",
    "assert friend_matrix[0][2] == 1, \"0 and 2 are friends\"\n",
    "assert friend_matrix[0][8] == 0, \"0 and 8 are not friends\"\n",
    "\n",
    "# only need to look at one row\n",
    "friends_of_five = [i\n",
    "                   for i, is_friend in enumerate(friend_matrix[5])\n",
    "                   if is_friend]\n",
    "\n"
   ]
  },
  {
   "cell_type": "code",
   "execution_count": null,
   "id": "2b793033",
   "metadata": {},
   "outputs": [],
   "source": []
  },
  {
   "cell_type": "code",
   "execution_count": null,
   "id": "a51bd6dd",
   "metadata": {},
   "outputs": [],
   "source": []
  },
  {
   "cell_type": "code",
   "execution_count": null,
   "id": "37bca4a4",
   "metadata": {},
   "outputs": [],
   "source": []
  },
  {
   "cell_type": "code",
   "execution_count": null,
   "id": "a51d231b",
   "metadata": {},
   "outputs": [],
   "source": []
  },
  {
   "cell_type": "markdown",
   "id": "9a03729e",
   "metadata": {},
   "source": []
  },
  {
   "cell_type": "code",
   "execution_count": 40,
   "id": "22e5797a",
   "metadata": {},
   "outputs": [
    {
     "data": {
      "text/plain": [
       "array([1, 2, 3])"
      ]
     },
     "metadata": {},
     "output_type": "display_data"
    },
    {
     "data": {
      "text/plain": [
       "array([1, 2, 3])"
      ]
     },
     "metadata": {},
     "output_type": "display_data"
    },
    {
     "data": {
      "text/plain": [
       "14"
      ]
     },
     "metadata": {},
     "output_type": "display_data"
    }
   ],
   "source": [
    "import numpy as np\n",
    "a = np.array([1, 2, 3])\n",
    "display(a)\n",
    "display(a.transpose())\n",
    "display(a.dot(a.transpose()))\n",
    "\n"
   ]
  },
  {
   "cell_type": "code",
   "execution_count": 42,
   "id": "46e4a5f3",
   "metadata": {},
   "outputs": [
    {
     "data": {
      "text/plain": [
       "array([[1],\n",
       "       [2],\n",
       "       [3]])"
      ]
     },
     "metadata": {},
     "output_type": "display_data"
    },
    {
     "data": {
      "text/plain": [
       "array([[1, 2, 3]])"
      ]
     },
     "metadata": {},
     "output_type": "display_data"
    },
    {
     "data": {
      "text/plain": [
       "array([[1, 2, 3],\n",
       "       [2, 4, 6],\n",
       "       [3, 6, 9]])"
      ]
     },
     "metadata": {},
     "output_type": "display_data"
    }
   ],
   "source": [
    "a.shape = (3,1)\n",
    "display(a)\n",
    "display(a.transpose())\n",
    "display(a.dot(a.transpose()))\n",
    "        "
   ]
  },
  {
   "cell_type": "code",
   "execution_count": null,
   "id": "0f34d7ff",
   "metadata": {},
   "outputs": [],
   "source": []
  }
 ],
 "metadata": {
  "kernelspec": {
   "display_name": "Python 3",
   "language": "python",
   "name": "python3"
  },
  "language_info": {
   "codemirror_mode": {
    "name": "ipython",
    "version": 3
   },
   "file_extension": ".py",
   "mimetype": "text/x-python",
   "name": "python",
   "nbconvert_exporter": "python",
   "pygments_lexer": "ipython3",
   "version": "3.8.10"
  },
  "widgets": {
   "application/vnd.jupyter.widget-state+json": {
    "state": {},
    "version_major": 2,
    "version_minor": 0
   }
  }
 },
 "nbformat": 4,
 "nbformat_minor": 5
}
