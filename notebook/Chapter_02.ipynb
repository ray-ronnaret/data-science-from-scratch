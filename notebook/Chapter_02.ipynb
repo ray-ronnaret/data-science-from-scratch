{
 "cells": [
  {
   "cell_type": "markdown",
   "id": "0658026b",
   "metadata": {},
   "source": [
    "---"
   ]
  },
  {
   "cell_type": "markdown",
   "id": "16c79f45",
   "metadata": {},
   "source": [
    "# Chapter 2: Python Crash Course"
   ]
  },
  {
   "cell_type": "markdown",
   "id": "f7f5f9e1",
   "metadata": {},
   "source": [
    "---"
   ]
  },
  {
   "cell_type": "code",
   "execution_count": null,
   "id": "8ccaa7fe",
   "metadata": {},
   "outputs": [],
   "source": []
  },
  {
   "cell_type": "markdown",
   "id": "6705fdc9",
   "metadata": {},
   "source": [
    "## Function Variable\n",
    "\n",
    "It is very important to keep in mind function in Python can be assigned to a variable, ``double`` is a function with one argument return 2 times.  \n",
    "The ``apply_to_one`` receive a fucntion argument and pass a constant ``1`` to that function."
   ]
  },
  {
   "cell_type": "code",
   "execution_count": 11,
   "id": "b9db4d6a",
   "metadata": {},
   "outputs": [
    {
     "name": "stdout",
     "output_type": "stream",
     "text": [
      "2\n"
     ]
    }
   ],
   "source": [
    "def double(x):\n",
    "    \"\"\"\n",
    "    This is where you put an optional docstring that explains what the\n",
    "    function does. For example, this function multiplies its input by 2.\n",
    "    \"\"\"\n",
    "    return x * 2\n",
    "\n",
    "def apply_to_one(f):\n",
    "    \"\"\"Calls the function f with 1 as its argument\"\"\"\n",
    "    return f(1)\n",
    "\n",
    "my_double = double             # refers to the previously defined function\n",
    "x = apply_to_one(my_double)    # equals 2\n",
    "assert x == 2\n",
    "print(x)"
   ]
  },
  {
   "cell_type": "markdown",
   "id": "56d3964b",
   "metadata": {},
   "source": [
    "**Lanbda function**, a short function defined, also be pass to ``apply_to_one`` as an argument directly."
   ]
  },
  {
   "cell_type": "code",
   "execution_count": 14,
   "id": "d91e3f24",
   "metadata": {},
   "outputs": [
    {
     "name": "stdout",
     "output_type": "stream",
     "text": [
      "<class 'int'> 5\n"
     ]
    }
   ],
   "source": [
    "y = apply_to_one(lambda x: x + 4)      # equals 5\n",
    "assert y == 5\n",
    "print(type(y),y)"
   ]
  },
  {
   "cell_type": "markdown",
   "id": "1a561e77",
   "metadata": {},
   "source": [
    "But note that it's not recommend to assign a lambda function to a variable. "
   ]
  },
  {
   "cell_type": "code",
   "execution_count": 15,
   "id": "90bc150d",
   "metadata": {},
   "outputs": [],
   "source": [
    "# it's not recommend\n",
    "another_double = lambda x: 2 * x     \n",
    "# instead, define the function.\n",
    "def another_double(x):\n",
    "    \"\"\"Do this instead\"\"\"\n",
    "    return 2 * x"
   ]
  },
  {
   "cell_type": "markdown",
   "id": "47470079",
   "metadata": {},
   "source": [
    "The argument value can be set defualt value so if call without any value, the defualt will be used.\n",
    "However, ``None`` is allowed."
   ]
  },
  {
   "cell_type": "code",
   "execution_count": 19,
   "id": "3d7e610e",
   "metadata": {},
   "outputs": [
    {
     "name": "stdout",
     "output_type": "stream",
     "text": [
      "hello\n",
      "my default message\n",
      "None\n",
      "None\n"
     ]
    }
   ],
   "source": [
    "def my_print(message = \"my default message\"):\n",
    "    print(message)\n",
    "\n",
    "my_print(\"hello\")   # prints 'hello'\n",
    "my_print()          # prints 'my default message'\n",
    "my_print(None)          # prints 'my default message'\n",
    "a = None\n",
    "my_print(a)"
   ]
  },
  {
   "cell_type": "markdown",
   "id": "7993afcb",
   "metadata": {},
   "source": [
    "Argument keyword is the arguement name, we can call a fucntion with  aregument keyword name or by  argument postion.\n",
    "However, it not allow to call by positional argument follows keyword argument, and first postion always matchd to first argument keyword. "
   ]
  },
  {
   "cell_type": "code",
   "execution_count": 26,
   "id": "7cdcb9b6",
   "metadata": {},
   "outputs": [],
   "source": [
    "def full_name(first = \"What's-his-name\", last = \"Something\"):\n",
    "    return first + \" \" + last\n",
    "\n",
    "full_name(\"Joel\", \"Grus\")     # \"Joel Grus\"\n",
    "full_name(\"Joel\")             # \"Joel Something\"\n",
    "full_name(last=\"Grus\")        # \"What's-his-name Grus\"\n",
    "\n",
    "\n",
    "assert full_name(\"Joel\", \"Grus\")     == \"Joel Grus\"\n",
    "assert full_name(\"Joel\")             == \"Joel Something\"\n",
    "assert full_name(last=\"Grus\")        == \"What's-his-name Grus\"\n",
    "assert full_name(last=\"Grus\",first=\"Joel\")  == 'Joel Grus'"
   ]
  },
  {
   "cell_type": "code",
   "execution_count": null,
   "id": "86cc0e09",
   "metadata": {},
   "outputs": [],
   "source": [
    "# TypeError got multiple values for argument 'first'\n",
    "full_name(\"Grus\",first=\"Joel\") \n",
    "# SyntaxError: positional argument follows keyword argument\n",
    "full_name(last=\"Grus\",\"Joel\") "
   ]
  },
  {
   "cell_type": "markdown",
   "id": "9b32c43e",
   "metadata": {},
   "source": [
    "## String\n",
    "Single and double quote for string literl are allowd. "
   ]
  },
  {
   "cell_type": "code",
   "execution_count": 33,
   "id": "5d540d59",
   "metadata": {},
   "outputs": [],
   "source": [
    "single_quoted_string = 'data science'\n",
    "double_quoted_string = \"data science\""
   ]
  },
  {
   "cell_type": "markdown",
   "id": "c55b78a1",
   "metadata": {},
   "source": [
    "Spacial character must leads by '\\' allowed. For use character '\\' in string, use '\\\\' or r\"\\t\""
   ]
  },
  {
   "cell_type": "code",
   "execution_count": 34,
   "id": "058621ba",
   "metadata": {},
   "outputs": [],
   "source": [
    "tab_string = \"\\t\"       # represents the tab character\n",
    "len(tab_string)         # is 1\n",
    "assert len(tab_string) == 1\n",
    "\n",
    "bslash = \"\\\\\"\n",
    "assert len(bslash) == 1\n",
    "\n",
    "not_tab_string = r\"\\t\"  # represents the characters '\\' and 't'\n",
    "len(not_tab_string)     # is 2\n",
    "assert len(not_tab_string) == 2"
   ]
  },
  {
   "cell_type": "markdown",
   "id": "d6248c0d",
   "metadata": {},
   "source": [
    "For multiple lines string, use triple quates ``\"\"\"str_var\"\"\"``"
   ]
  },
  {
   "cell_type": "code",
   "execution_count": 35,
   "id": "66f447e1",
   "metadata": {},
   "outputs": [
    {
     "name": "stdout",
     "output_type": "stream",
     "text": [
      "This is the first line.\n",
      "and this is the second line\n",
      "and this is the third line\n"
     ]
    }
   ],
   "source": [
    "multi_line_string = \"\"\"This is the first line.\n",
    "and this is the second line\n",
    "and this is the third line\"\"\"\n",
    "\n",
    "print(multi_line_string)"
   ]
  },
  {
   "cell_type": "markdown",
   "id": "d55ac20b",
   "metadata": {},
   "source": [
    "String formt use ``.format(vars)`` and in python 3.6 onward, ``f\"{var}\"``"
   ]
  },
  {
   "cell_type": "code",
   "execution_count": 38,
   "id": "07b3a4fb",
   "metadata": {},
   "outputs": [
    {
     "name": "stdout",
     "output_type": "stream",
     "text": [
      "Joel Grus\n",
      "Joel Grus\n",
      "Joel Grus\n",
      "Joel Grus\n"
     ]
    }
   ],
   "source": [
    "\n",
    "\n",
    "first_name = \"Joel\"\n",
    "last_name = \"Grus\"\n",
    "\n",
    "full_name1 = first_name + \" \" + last_name             # string addition\n",
    "full_name2 = \"{0} {1}\".format(first_name, last_name)  # string.format\n",
    "\n",
    "full_name3 = f\"{first_name} {last_name}\"\n",
    "full_name4 = \"{} {}\".format(first_name, last_name)  # string.format\n",
    "\n",
    "\n",
    "print(full_name1)\n",
    "print(full_name2)\n",
    "print(full_name3)\n",
    "print(full_name4)\n"
   ]
  },
  {
   "cell_type": "markdown",
   "id": "b2066472",
   "metadata": {},
   "source": [
    "## Exception"
   ]
  },
  {
   "cell_type": "code",
   "execution_count": null,
   "id": "beee9834",
   "metadata": {},
   "outputs": [],
   "source": [
    "try:\n",
    "    print(0 / 0)\n",
    "except ZeroDivisionError:\n",
    "    print(\"cannot divide by zero\")\n"
   ]
  },
  {
   "cell_type": "markdown",
   "id": "37ddd372",
   "metadata": {},
   "source": [
    "## ``list``\n",
    "\n",
    "List is a group of sequnce objects in one variable. "
   ]
  },
  {
   "cell_type": "code",
   "execution_count": 43,
   "id": "02fcdb8c",
   "metadata": {},
   "outputs": [],
   "source": [
    "integer_list = [1, 2, 3]\n",
    "heterogeneous_list = [\"string\", 0.1, True]\n",
    "list_of_lists = [integer_list, heterogeneous_list, []]\n",
    "\n",
    "\n",
    "list_length = len(integer_list)     # equals 3\n",
    "list_sum    = sum(integer_list)     # equals 6\n",
    "\n",
    "assert list_length == 3\n",
    "assert list_sum == 6"
   ]
  },
  {
   "cell_type": "markdown",
   "id": "47b5fe97",
   "metadata": {},
   "source": [
    "List index start from 0 to ``len()-1`` in left to right forward mode and start from -1 to ``-len()+1``"
   ]
  },
  {
   "cell_type": "code",
   "execution_count": 70,
   "id": "eb8def15",
   "metadata": {},
   "outputs": [
    {
     "name": "stdout",
     "output_type": "stream",
     "text": [
      "Forwrd  : 0,1,2...,9\n",
      "Backward: 9,8,7...,1\n"
     ]
    }
   ],
   "source": [
    "x = [0, 1, 2, 3, 4, 5, 6, 7, 8, 9]\n",
    "\n",
    "print('Forwrd  : {0},{1},{2}...,{3}'.format(x[0],  x[1], x[2],  x[(len(x)-1)]))\n",
    "print('Backward: {},{},{}...,{}'.format(x[-1],x[-2], x[-3], x[-len(x)+1]))"
   ]
  },
  {
   "cell_type": "code",
   "execution_count": 71,
   "id": "9baef8e9",
   "metadata": {},
   "outputs": [],
   "source": [
    "zero = x[0]          # equals 0, lists are 0-indexed\n",
    "one = x[1]           # equals 1\n",
    "nine = x[-1]         # equals 9, 'Pythonic' for last element\n",
    "eight = x[-2]        # equals 8, 'Pythonic' for next-to-last element\n",
    "x[0] = -1            # now x is [-1, 1, 2, 3, ..., 9]\n",
    "\n",
    "assert x == [-1, 1, 2, 3, 4, 5, 6, 7, 8, 9]\n"
   ]
  },
  {
   "cell_type": "markdown",
   "id": "5f5fee6a",
   "metadata": {},
   "source": [
    "#### Slice"
   ]
  },
  {
   "cell_type": "code",
   "execution_count": 44,
   "id": "c5c58ca1",
   "metadata": {},
   "outputs": [],
   "source": [
    "first_three = x[:3]                 # [-1, 1, 2]\n",
    "three_to_end = x[3:]                # [3, 4, ..., 9]\n",
    "one_to_four = x[1:5]                # [1, 2, 3, 4]\n",
    "last_three = x[-3:]                 # [7, 8, 9]\n",
    "without_first_and_last = x[1:-1]    # [1, 2, ..., 8]\n",
    "copy_of_x = x[:]                    # [-1, 1, 2, ..., 9]\n",
    "\n",
    "every_third = x[::3]                 # [-1, 3, 6, 9]\n",
    "five_to_three = x[5:2:-1]            # [5, 4, 3]\n",
    "\n",
    "\n",
    "assert every_third == [-1, 3, 6, 9]\n",
    "assert five_to_three == [5, 4, 3]\n",
    "\n"
   ]
  },
  {
   "cell_type": "markdown",
   "id": "e1a98b91",
   "metadata": {},
   "source": [
    "### operations"
   ]
  },
  {
   "cell_type": "code",
   "execution_count": null,
   "id": "fde3b3c3",
   "metadata": {},
   "outputs": [],
   "source": [
    "1 in [1, 2, 3]    # True\n",
    "0 in [1, 2, 3]    # False\n",
    "\n",
    "x = [1, 2, 3]\n",
    "x.extend([4, 5, 6])     # x is now [1, 2, 3, 4, 5, 6]\n",
    "\n",
    "\n",
    "assert x == [1, 2, 3, 4, 5, 6]\n",
    "\n",
    "x = [1, 2, 3]\n",
    "y = x + [4, 5, 6]       # y is [1, 2, 3, 4, 5, 6]; x is unchanged\n",
    "\n",
    "\n",
    "assert x == [1, 2, 3]\n",
    "assert y == [1, 2, 3, 4, 5, 6]\n",
    "\n",
    "x = [1, 2, 3]\n",
    "x.append(0)      # x is now [1, 2, 3, 0]\n",
    "y = x[-1]        # equals 0\n",
    "z = len(x)       # equals 4\n",
    "\n",
    "\n",
    "assert x == [1, 2, 3, 0]\n",
    "assert y == 0\n",
    "assert z == 4\n",
    "\n",
    "x, y = [1, 2]    # now x is 1, y is 2\n",
    "\n",
    "\n",
    "assert x == 1\n",
    "assert y == 2\n",
    "\n",
    "_, y = [1, 2]    # now y == 2, didn't care about the first element\n",
    "\n",
    "my_list = [1, 2]\n",
    "my_tuple = (1, 2)\n",
    "other_tuple = 3, 4\n",
    "my_list[1] = 3      # my_list is now [1, 3]"
   ]
  },
  {
   "cell_type": "markdown",
   "id": "63c44d8b",
   "metadata": {},
   "source": [
    "## ``tuple``\n",
    "Tuple is also a group of sequence objects but immutatble, the objects insides cannot be changed, define by (var,...,varN)"
   ]
  },
  {
   "cell_type": "code",
   "execution_count": 72,
   "id": "84377849",
   "metadata": {},
   "outputs": [
    {
     "name": "stdout",
     "output_type": "stream",
     "text": [
      "cannot modify a tuple\n"
     ]
    }
   ],
   "source": [
    "my_list = [1, 2]\n",
    "my_tuple = (1, 2)\n",
    "other_tuple = 3, 4\n",
    "my_list[1] = 3      # my_list is now [1, 3]\n",
    "\n",
    "try:\n",
    "    my_tuple[1] = 3\n",
    "except TypeError:\n",
    "    print(\"cannot modify a tuple\")\n",
    "\n"
   ]
  },
  {
   "cell_type": "markdown",
   "id": "c7310074",
   "metadata": {},
   "source": [
    "Function can return the tuple as well.\n",
    "\n",
    "Similar to the ``print(*sequence)``, in  ``b = sum_and_product(*a)``, the operator ``*`` split the list or tuple to each eliment."
   ]
  },
  {
   "cell_type": "code",
   "execution_count": 82,
   "id": "85d49ce0",
   "metadata": {},
   "outputs": [
    {
     "name": "stdout",
     "output_type": "stream",
     "text": [
      "<class 'tuple'> (5, 6)\n",
      "(15, 50)\n",
      "(15, 50)\n"
     ]
    }
   ],
   "source": [
    "def sum_and_product(x, y):\n",
    "    return (x + y), (x * y)\n",
    "\n",
    "sp = sum_and_product(2, 3)     # sp is (5, 6)\n",
    "print(type(sp),sp)\n",
    "s, p = sum_and_product(5, 10)  # s is 15, p is 50\n",
    "print((s,p))\n",
    "\n",
    "# pass the function by a tuple\n",
    "a = 5,10\n",
    "b = sum_and_product(*a)\n",
    "print(b)\n",
    "\n",
    "\n",
    "x, y = 1, 2     # now x is 1, y is 2\n",
    "x, y = y, x     # Pythonic way to swap variables; now x is 2, y is 1\n",
    "\n",
    "assert x == 2\n",
    "assert y == 1"
   ]
  },
  {
   "cell_type": "markdown",
   "id": "8c732498",
   "metadata": {},
   "source": [
    "## ``dict``\n",
    "``dict`` store the sequence of key-value pairs. The key is unique, and support direct access the value."
   ]
  },
  {
   "cell_type": "code",
   "execution_count": 96,
   "id": "5e721b34",
   "metadata": {},
   "outputs": [
    {
     "name": "stdout",
     "output_type": "stream",
     "text": [
      "no grade for Kate!\n"
     ]
    }
   ],
   "source": [
    "empty_dict = {}                     # Pythonic\n",
    "empty_dict2 = dict()                # less Pythonic\n",
    "grades = {\"Joel\": 80, \"Tim\": 95}    # dictionary literal\n",
    "\n",
    "# Direct access via key\n",
    "joels_grade = grades[\"Joel\"]        # equals 80\n",
    "assert joels_grade == 80\n",
    "\n",
    "# Direct access via flasety key\n",
    "try:\n",
    "    kates_grade = grades[\"Kate\"]\n",
    "except KeyError:\n",
    "    print(\"no grade for Kate!\")\n",
    "\n",
    "joel_has_grade = \"Joel\" in grades     # True\n",
    "kate_has_grade = \"Kate\" in grades     # False\n",
    "\n",
    "assert joel_has_grade\n",
    "assert not kate_has_grade"
   ]
  },
  {
   "cell_type": "markdown",
   "id": "f1319504",
   "metadata": {},
   "source": [
    "``dict.get(key,defualt)`` Find value of given key in ``dict`` and if not found, returns the default value."
   ]
  },
  {
   "cell_type": "code",
   "execution_count": 97,
   "id": "b54be12e",
   "metadata": {},
   "outputs": [],
   "source": [
    "joels_grade = grades.get(\"Joel\", 0)   # equals 80\n",
    "kates_grade = grades.get(\"Kate\", 0)   # equals 0\n",
    "no_ones_grade = grades.get(\"No One\")  # default default is None\n",
    "\n",
    "\n",
    "assert joels_grade == 80\n",
    "assert kates_grade == 0\n",
    "assert no_ones_grade is None\n",
    "\n",
    "grades[\"Tim\"] = 99                    # replaces the old value\n",
    "grades[\"Kate\"] = 100                  # adds a third entry\n",
    "num_students = len(grades)            # equals 3\n",
    "\n",
    "\n",
    "assert num_students == 3"
   ]
  },
  {
   "cell_type": "markdown",
   "id": "59c0268b",
   "metadata": {},
   "source": [
    "Travel to the eliements in dicts by three ways, ``dictVar.keys()``, ``dictVar.values()`` and ``dictVar.itmes()``"
   ]
  },
  {
   "cell_type": "code",
   "execution_count": 86,
   "id": "a35401a6",
   "metadata": {},
   "outputs": [],
   "source": [
    "\n",
    "tweet = {\n",
    "    \"user\" : \"joelgrus\",\n",
    "    \"text\" : \"Data Science is Awesome\",\n",
    "    \"retweet_count\" : 100,\n",
    "    \"hashtags\" : [\"#data\", \"#science\", \"#datascience\", \"#awesome\", \"#yolo\"]\n",
    "}\n",
    "\n",
    "tweet_keys   = tweet.keys()     # iterable for the keys\n",
    "tweet_values = tweet.values()   # iterable for the values\n",
    "tweet_items  = tweet.items()    # iterable for the (key, value) tuples\n",
    "\n",
    "\"user\" in tweet_keys            # True, but not Pythonic\n",
    "\"user\" in tweet                 # Pythonic way of checking for keys\n",
    "\"joelgrus\" in tweet_values      # True (slow but the only way to check)\n",
    "\n",
    "\n",
    "assert \"user\" in tweet_keys\n",
    "assert \"user\" in tweet\n",
    "assert \"joelgrus\" in tweet_values\n",
    "\n",
    "\n"
   ]
  },
  {
   "cell_type": "markdown",
   "id": "f6118175",
   "metadata": {},
   "source": [
    "## ``defaultdict`` \n",
    "``dict`` has limitation when access the dose not exists. Assume we got requirements to count word in a document, using ``dict`` need some carefull to taken on access new key."
   ]
  },
  {
   "cell_type": "code",
   "execution_count": 101,
   "id": "aed2d4af",
   "metadata": {},
   "outputs": [],
   "source": [
    "document = [\"data\", \"science\", \"from\", \"scratch\"]\n",
    "\n",
    "word_counts = {}\n",
    "for word in document:\n",
    "    if word in word_counts:\n",
    "        word_counts[word] += 1\n",
    "    else:\n",
    "        word_counts[word] = 1\n",
    "\n",
    "word_counts = {}\n",
    "for word in document:\n",
    "    try:\n",
    "        word_counts[word] += 1\n",
    "    except KeyError:\n",
    "        word_counts[word] = 1\n",
    "\n",
    "word_counts = {}\n",
    "for word in document:\n",
    "    previous_count = word_counts.get(word, 0)\n",
    "    word_counts[word] = previous_count + 1"
   ]
  },
  {
   "cell_type": "markdown",
   "id": "7bbeee78",
   "metadata": {},
   "source": [
    "A better way is the ``defaultdict`` that automatically add new key if it not exists."
   ]
  },
  {
   "cell_type": "code",
   "execution_count": null,
   "id": "8b68962f",
   "metadata": {},
   "outputs": [],
   "source": [
    "from collections import defaultdict\n",
    "\n",
    "word_counts = defaultdict(int)          # int() produces 0\n",
    "for word in document:\n",
    "    word_counts[word] += 1"
   ]
  },
  {
   "cell_type": "markdown",
   "id": "17adbcfb",
   "metadata": {},
   "source": [
    "The other flexibility"
   ]
  },
  {
   "cell_type": "code",
   "execution_count": 104,
   "id": "1ab20193",
   "metadata": {},
   "outputs": [
    {
     "name": "stdout",
     "output_type": "stream",
     "text": [
      "defaultdict(<class 'list'>, {})\n",
      "defaultdict(<class 'list'>, {2: [1]})\n",
      "defaultdict(<class 'dict'>, {})\n",
      "defaultdict(<class 'dict'>, {'Joel': {'City': 'Seattle'}})\n",
      "defaultdict(<function <lambda> at 0x000001F2D0817EE0>, {})\n",
      "defaultdict(<function <lambda> at 0x000001F2D0817EE0>, {2: [0, 1]})\n"
     ]
    }
   ],
   "source": [
    "dd_list = defaultdict(list)             # list() produces an empty list\n",
    "print(dd_list)\n",
    "dd_list[2].append(1)                    # now dd_list contains {2: [1]}\n",
    "print(dd_list)\n",
    "\n",
    "\n",
    "dd_dict = defaultdict(dict)             # dict() produces an empty dict\n",
    "print(dd_dict)\n",
    "dd_dict[\"Joel\"][\"City\"] = \"Seattle\"     # {\"Joel\" : {\"City\": Seattle\"}}\n",
    "print(dd_dict)\n",
    "\n",
    "\n",
    "dd_pair = defaultdict(lambda: [0, 0])\n",
    "print(dd_pair)\n",
    "dd_pair[2][1] = 1  \n",
    "print(dd_pair)\n"
   ]
  },
  {
   "cell_type": "markdown",
   "id": "2416f55c",
   "metadata": {},
   "source": [
    "## ``Counter``\n",
    "Another ways for the word count program is using ``Counter``. This collection object will return each eliments for counting"
   ]
  },
  {
   "cell_type": "code",
   "execution_count": 117,
   "id": "86e200a9",
   "metadata": {},
   "outputs": [
    {
     "name": "stdout",
     "output_type": "stream",
     "text": [
      "<class 'collections.Counter'> Counter({0: 2, 1: 1, 2: 1})\n",
      "<class 'int'> 0\n",
      "<class 'int'> 1\n",
      "<class 'int'> 2\n",
      "0 1 2\n",
      "--------\n",
      "2\n",
      "1\n"
     ]
    }
   ],
   "source": [
    "from collections import Counter\n",
    "c = Counter([0, 1, 2, 0])          # c is (basically) {0: 2, 1: 1, 2: 1}\n",
    "print(type(c), c)\n",
    "\n",
    "# print each element from counter\n",
    "for ch in c:\n",
    "    print(type(ch),ch)\n",
    "\n",
    "# print the whole\n",
    "print(*c)\n",
    "print('-'*8)\n",
    "# first element is 2 (0 appaer twice)\n",
    "print(c[0])\n",
    "print(c[1])\n"
   ]
  },
  {
   "cell_type": "markdown",
   "id": "7dc6435a",
   "metadata": {},
   "source": [
    "Implement the word count again by ``Counter``"
   ]
  },
  {
   "cell_type": "code",
   "execution_count": 118,
   "id": "a55a138a",
   "metadata": {},
   "outputs": [
    {
     "name": "stdout",
     "output_type": "stream",
     "text": [
      "data 1\n",
      "science 1\n",
      "from 1\n",
      "scratch 1\n"
     ]
    }
   ],
   "source": [
    "# recall, document is a list of words\n",
    "word_counts = Counter(document)\n",
    "\n",
    "# print the 10 most common words and their counts\n",
    "for word, count in word_counts.most_common(10):\n",
    "    print(word, count)"
   ]
  },
  {
   "cell_type": "markdown",
   "id": "19598f7b",
   "metadata": {},
   "source": [
    "## ``set``\n",
    "Same as in the mathmatic, ``set`` stored unique values unorder elements."
   ]
  },
  {
   "cell_type": "code",
   "execution_count": null,
   "id": "21ad48f7",
   "metadata": {},
   "outputs": [],
   "source": [
    "primes_below_10 = {2, 3, 5, 7}\n",
    "\n",
    "s = set()\n",
    "s.add(1)       # s is now {1}\n",
    "s.add(2)       # s is now {1, 2}\n",
    "s.add(2)       # s is still {1, 2}\n",
    "x = len(s)     # equals 2\n",
    "y = 2 in s     # equals True\n",
    "z = 3 in s     # equals False"
   ]
  },
  {
   "cell_type": "markdown",
   "id": "9f8b96c4",
   "metadata": {},
   "source": [
    "Set very fast and handful to check whether any elements is appeard. For example, ``stopwords_list`` contains words, to determine whether word ``\"zip\"`` in that list or not we need to check for every element in the list that slow than use set."
   ]
  },
  {
   "cell_type": "code",
   "execution_count": 125,
   "id": "765e43dc",
   "metadata": {},
   "outputs": [
    {
     "name": "stdout",
     "output_type": "stream",
     "text": [
      "<class 'list'> ['a', 'an', 'at', 'yet', 'you']\n",
      "<class 'set'> {'at', 'you', 'an', 'yet', 'a'}\n"
     ]
    },
    {
     "data": {
      "text/plain": [
       "False"
      ]
     },
     "execution_count": 125,
     "metadata": {},
     "output_type": "execute_result"
    }
   ],
   "source": [
    "hundreds_of_other_words = []  # required for the below code to run\n",
    "\n",
    "stopwords_list = [\"a\", \"an\", \"at\"] + hundreds_of_other_words + [\"yet\", \"you\"]\n",
    "\n",
    "print(type(stopwords_list),stopwords_list)\n",
    "\n",
    "\"zip\" in stopwords_list     # False, but have to check every element\n",
    "\n",
    "stopwords_set = set(stopwords_list)\n",
    "print(type(stopwords_set),stopwords_set)\n",
    "\"zip\" in stopwords_set      # very fast to check"
   ]
  },
  {
   "cell_type": "markdown",
   "id": "fbcc7255",
   "metadata": {},
   "source": [
    "The other examples"
   ]
  },
  {
   "cell_type": "code",
   "execution_count": 123,
   "id": "0594fc18",
   "metadata": {},
   "outputs": [],
   "source": [
    "item_list = [1, 2, 3, 1, 2, 3]\n",
    "num_items = len(item_list)                # 6\n",
    "item_set = set(item_list)                 # {1, 2, 3}\n",
    "num_distinct_items = len(item_set)        # 3\n",
    "distinct_item_list = list(item_set)       # [1, 2, 3]\n",
    "\n",
    "\n",
    "assert num_items == 6\n",
    "assert item_set == {1, 2, 3}\n",
    "assert num_distinct_items == 3\n",
    "assert distinct_item_list == [1, 2, 3]"
   ]
  },
  {
   "cell_type": "markdown",
   "id": "4892733c",
   "metadata": {},
   "source": [
    "## Logic control and loop\n",
    "Logic control in python are ``if``, ``elif``, ``else`` and ternary."
   ]
  },
  {
   "cell_type": "code",
   "execution_count": null,
   "id": "2d32c3bf",
   "metadata": {},
   "outputs": [],
   "source": [
    "if 1 > 2:\n",
    "    message = \"if only 1 were greater than two...\"\n",
    "elif 1 > 3:\n",
    "    message = \"elif stands for 'else if'\"\n",
    "else:\n",
    "    message = \"when all else fails use else (if you want to)\"\n",
    "\n",
    "parity = \"even\" if x % 2 == 0 else \"odd\"\n"
   ]
  },
  {
   "cell_type": "markdown",
   "id": "560dce78",
   "metadata": {},
   "source": [
    "``for var range(n):`` and ``while`` are looping, with ``continue`` and ``break`` to continue and stop loop."
   ]
  },
  {
   "cell_type": "code",
   "execution_count": 141,
   "id": "ae0b65b8",
   "metadata": {},
   "outputs": [
    {
     "name": "stdout",
     "output_type": "stream",
     "text": [
      "while loop\n",
      "0 is less than 10\n",
      "1 is less than 10\n",
      "2 is less than 10\n",
      "3 is less than 10\n",
      "4 is less than 10\n",
      "5 is less than 10\n",
      "6 is less than 10\n",
      "7 is less than 10\n",
      "8 is less than 10\n",
      "9 is less than 10\n",
      "for loop 1\n",
      "0 is less than 10\n",
      "1 is less than 10\n",
      "2 is less than 10\n",
      "3 is less than 10\n",
      "4 is less than 10\n",
      "5 is less than 10\n",
      "6 is less than 10\n",
      "7 is less than 10\n",
      "8 is less than 10\n",
      "9 is less than 10\n",
      "for loop 2\n",
      "0\n",
      "1\n",
      "2\n",
      "for loop contiue\n",
      "4\n",
      "for loop break\n"
     ]
    }
   ],
   "source": [
    "\n",
    "x = 0\n",
    "print('while loop')\n",
    "while x < 10:\n",
    "    print(f\"{x} is less than 10\")\n",
    "    x += 1\n",
    "    \n",
    "print('for loop 1')\n",
    "# range(10) is the numbers 0, 1, ..., 9\n",
    "for x in range(10):\n",
    "    print(f\"{x} is less than 10\")\n",
    "print('for loop 2')\n",
    "for x in range(10):\n",
    "    if x == 3:\n",
    "        print('for loop contiue')\n",
    "        continue  # go immediately to the next iteration\n",
    "    if x == 5:\n",
    "        print('for loop break')\n",
    "        break     # quit the loop entirely\n",
    "    print(x)"
   ]
  },
  {
   "cell_type": "markdown",
   "id": "410551c4",
   "metadata": {},
   "source": [
    "## Bolean\n",
    "``True`` and ``False`` are refer to true and false in python. ``None`` is a constant for non-assigned value and recommend to check the ``None`` by ``var is None`` instead ``var == None``.\n",
    "Below value are ``False``\n",
    "\n",
    "* ``False``\n",
    "* ``None``\n",
    "* '' (empty string)\n",
    "* [] (empty list)\n",
    "* {} (empthy dict)\n",
    "* set() (empty set)\n",
    "* 0 and 0.00"
   ]
  },
  {
   "cell_type": "code",
   "execution_count": 127,
   "id": "a2200ae2",
   "metadata": {},
   "outputs": [],
   "source": [
    "one_is_less_than_two = 1 < 2          # equals True\n",
    "true_equals_false = True == False     # equals False\n",
    "\n",
    "\n",
    "assert one_is_less_than_two\n",
    "assert not true_equals_false\n",
    "\n",
    "x = None\n",
    "assert x == None, \"this is the not the Pythonic way to check for None\"\n",
    "assert x is None, \"this is the Pythonic way to check for None\""
   ]
  },
  {
   "cell_type": "markdown",
   "id": "861b3cea",
   "metadata": {},
   "source": [
    "s"
   ]
  },
  {
   "cell_type": "markdown",
   "id": "55816691",
   "metadata": {},
   "source": [
    "Empty string always zero length and equivalent to ``False``"
   ]
  },
  {
   "cell_type": "code",
   "execution_count": 128,
   "id": "204a1cef",
   "metadata": {},
   "outputs": [
    {
     "data": {
      "text/plain": [
       "False"
      ]
     },
     "execution_count": 128,
     "metadata": {},
     "output_type": "execute_result"
    }
   ],
   "source": [
    "def some_function_that_returns_a_string():\n",
    "    return \"\"\n",
    "\n",
    "s = some_function_that_returns_a_string()\n",
    "if s:\n",
    "    first_char = s[0]\n",
    "else:\n",
    "    first_char = \"\"\n",
    "\n",
    "first_char = s and s[0]"
   ]
  },
  {
   "cell_type": "markdown",
   "id": "4ab9b786",
   "metadata": {},
   "source": [
    "``and``, ``or``, ``not`` are the boolean operators while the ``all`` use to determine the sequnce objects  'whether for all is true' and  ``any`` determine sequnce objects 'whether at least one is true'"
   ]
  },
  {
   "cell_type": "code",
   "execution_count": null,
   "id": "860d14b2",
   "metadata": {},
   "outputs": [],
   "source": [
    "safe_x = x or 0\n",
    "\n",
    "safe_x = x if x is not None else 0\n",
    "\n",
    "all([True, 1, {3}])   # True, all are truthy\n",
    "all([True, 1, {}])    # False, {} is falsy\n",
    "any([True, 1, {}])    # True, True is truthy\n",
    "all([])               # True, no falsy elements in the list\n",
    "any([])               # False, no truthy elements in the list"
   ]
  },
  {
   "cell_type": "markdown",
   "id": "b5d462e6",
   "metadata": {},
   "source": [
    "## Sorting\n",
    "``objects.sort(vars, key, isReverse)`` is the method sort sequence objects order by ``key`` function, and it not return anything."
   ]
  },
  {
   "cell_type": "code",
   "execution_count": 132,
   "id": "cacf6497",
   "metadata": {},
   "outputs": [],
   "source": [
    "x = [4, 1, 2, 3]\n",
    "y = sorted(x)     # y is [1, 2, 3, 4], x is unchanged\n",
    "x.sort()          # now x is [1, 2, 3, 4]"
   ]
  },
  {
   "cell_type": "code",
   "execution_count": 134,
   "id": "420abf5e",
   "metadata": {},
   "outputs": [
    {
     "data": {
      "text/plain": [
       "(None, [1, 2, 3, 4])"
      ]
     },
     "execution_count": 134,
     "metadata": {},
     "output_type": "execute_result"
    }
   ],
   "source": [
    "a = [4, 1, 2, 3]\n",
    "b = a.sort()\n",
    "print(b,a)"
   ]
  },
  {
   "cell_type": "markdown",
   "id": "946bc4c9",
   "metadata": {},
   "source": [
    " Use ``sorted(key, isReverse)`` instead if expect the copy object."
   ]
  },
  {
   "cell_type": "code",
   "execution_count": 135,
   "id": "764d1b0b",
   "metadata": {},
   "outputs": [
    {
     "data": {
      "text/plain": [
       "([1, 2, 3, 4], [4, 1, 2, 3])"
      ]
     },
     "execution_count": 135,
     "metadata": {},
     "output_type": "execute_result"
    }
   ],
   "source": [
    "a = [4, 1, 2, 3]\n",
    "b = sorted(a)\n",
    "b,a"
   ]
  },
  {
   "cell_type": "markdown",
   "id": "24db1d69",
   "metadata": {},
   "source": [
    "Example for ``key`` that support both function and lambda "
   ]
  },
  {
   "cell_type": "code",
   "execution_count": 138,
   "id": "5aca8525",
   "metadata": {},
   "outputs": [
    {
     "name": "stdout",
     "output_type": "stream",
     "text": [
      "[-4, 3, -2, 1]\n"
     ]
    },
    {
     "data": {
      "text/plain": [
       "dict_items"
      ]
     },
     "execution_count": 138,
     "metadata": {},
     "output_type": "execute_result"
    }
   ],
   "source": [
    "# sort the list by absolute value from largest to smallest\n",
    "x = sorted([-4, 1, -2, 3], key=abs, reverse=True)  # is [-4, 3, -2, 1]\n",
    "print(x)"
   ]
  },
  {
   "cell_type": "markdown",
   "id": "14a61432",
   "metadata": {},
   "source": [
    "Sorting the iteratorable object such word_counts from previuse exmple above. "
   ]
  },
  {
   "cell_type": "code",
   "execution_count": 139,
   "id": "ef7d33cc",
   "metadata": {},
   "outputs": [
    {
     "name": "stdout",
     "output_type": "stream",
     "text": [
      "Counter({'data': 1, 'science': 1, 'from': 1, 'scratch': 1})\n",
      "[('data', 1), ('science', 1), ('from', 1), ('scratch', 1)]\n"
     ]
    }
   ],
   "source": [
    "# sort the words and counts from highest count to lowest\n",
    "print(word_counts)\n",
    "wc = sorted(word_counts.items(),\n",
    "            key=lambda word_and_count: word_and_count[1],\n",
    "            reverse=True)\n",
    "print(wc)"
   ]
  },
  {
   "cell_type": "markdown",
   "id": "f8335d1b",
   "metadata": {},
   "source": [
    "## List comprehension\n",
    "Create sequence object by an expression such as ``list``even_numbers = [x for x in range(5) if x % 2 == 0]  # [0, 2, 4]\n",
    "squares      = [x * x for x in range(5)]            # [0, 1, 4, 9, 16]\n",
    "even_squares = [x * x for x in even_numbers]        # [0, 4, 16]\n",
    "\n",
    "\n",
    "assert even_numbers == [0, 2, 4]\n",
    "assert squares == [0, 1, 4, 9, 16]\n",
    "assert even_squares == [0, 4, 16]\n"
   ]
  },
  {
   "cell_type": "code",
   "execution_count": null,
   "id": "98161cdd",
   "metadata": {},
   "outputs": [],
   "source": [
    "even_numbers = [x for x in range(5) if x % 2 == 0]  # [0, 2, 4]\n",
    "squares      = [x * x for x in range(5)]            # [0, 1, 4, 9, 16]\n",
    "even_squares = [x * x for x in even_numbers]        # [0, 4, 16]\n",
    "\n",
    "\n",
    "assert even_numbers == [0, 2, 4]\n",
    "assert squares == [0, 1, 4, 9, 16]\n",
    "assert even_squares == [0, 4, 16]\n"
   ]
  },
  {
   "cell_type": "markdown",
   "id": "29e8a8b0",
   "metadata": {},
   "source": [
    "Dictionary and Set comprehehsion"
   ]
  },
  {
   "cell_type": "code",
   "execution_count": 163,
   "id": "dbc4fe9f",
   "metadata": {},
   "outputs": [],
   "source": [
    "\n",
    "square_dict = {x: x * x for x in range(5)}  # {0: 0, 1: 1, 2: 4, 3: 9, 4: 16}\n",
    "square_set  = {x * x for x in [1, -1]}      # {1}\n",
    "\n",
    "\n",
    "assert square_dict == {0: 0, 1: 1, 2: 4, 3: 9, 4: 16}\n",
    "assert square_set == {1}\n",
    "\n",
    "zeros = [0 for _ in even_numbers]      # has the same length as even_numbers\n",
    "\n",
    "\n",
    "assert zeros == [0, 0, 0]"
   ]
  },
  {
   "cell_type": "markdown",
   "id": "aa1971d9",
   "metadata": {},
   "source": [
    "Tuple"
   ]
  },
  {
   "cell_type": "code",
   "execution_count": 162,
   "id": "ad9908f0",
   "metadata": {},
   "outputs": [
    {
     "name": "stdout",
     "output_type": "stream",
     "text": [
      "<class 'list'> <class 'tuple'>\n"
     ]
    }
   ],
   "source": [
    "pairs = [(x, y)\n",
    "         for x in range(10)\n",
    "         for y in range(10)]   # 100 pairs (0,0) (0,1) ... (9,8), (9,9)\n",
    "print(type(pairs),type(pairs[0]))\n",
    "\n",
    "\n",
    "assert len(pairs) == 100\n",
    "increasing_pairs = [(x, y)                       # only pairs with x < y,\n",
    "                    for x in range(10)           # range(lo, hi) equals\n",
    "                    for y in range(x + 1, 10)]   # [lo, lo + 1, ..., hi - 1]\n",
    "\n",
    "\n",
    "assert len(increasing_pairs) == 9 + 8 + 7 + 6 + 5 + 4 + 3 + 2 + 1\n",
    "assert all(x < y for x, y in increasing_pairs)"
   ]
  },
  {
   "cell_type": "markdown",
   "id": "24cbf140",
   "metadata": {},
   "source": [
    "## Assertion\n",
    "Test the variable with expecpted values by keyword ``assert``, that will raised ``AssertionError`` when not matched.  \n",
    "Example shown assertion messages. "
   ]
  },
  {
   "cell_type": "code",
   "execution_count": 187,
   "id": "e8a56ba2",
   "metadata": {},
   "outputs": [],
   "source": [
    "assert 1 + 1 == 2\n",
    "# define a message raised by AssertionError\n",
    "assert 1 + 1 == 2, \"1 + 1 should equal 2 but didn't\"\n"
   ]
  },
  {
   "cell_type": "markdown",
   "id": "cb836ffe",
   "metadata": {},
   "source": [
    "In this function, if pass ``[]`` or ``None``, the ``min(xs)`` raised ``ValueError``"
   ]
  },
  {
   "cell_type": "code",
   "execution_count": 191,
   "id": "2ed36761",
   "metadata": {},
   "outputs": [],
   "source": [
    "# return the minimum element and raise ValueError by min() if xs is empty list\n",
    "def smallest_item(xs):\n",
    "    return min(xs)\n",
    "\n",
    "assert smallest_item([10, 20, 5, 40]) == 5\n",
    "assert smallest_item([1, 0, -1, 2]) == -1\n",
    "\n",
    "# ValueError: min() arg is an empty sequence\n",
    "# assert smallest_item([])\n",
    "# assert smallest_item([None])"
   ]
  },
  {
   "cell_type": "markdown",
   "id": "8e79e443",
   "metadata": {},
   "source": [
    "Instead pass the ``xs`` to the ``min(xs)``, we may adding assertion check the value is zero length sequence."
   ]
  },
  {
   "cell_type": "code",
   "execution_count": 193,
   "id": "37cb9866",
   "metadata": {},
   "outputs": [],
   "source": [
    "def smallest_item(xs):\n",
    "    assert xs, \"empty list has no smallest item\"\n",
    "    return min(xs)\n",
    "\n",
    "# smallest_item([]) \n",
    "# smallest_item([None]) \n"
   ]
  },
  {
   "cell_type": "markdown",
   "id": "839eec2e",
   "metadata": {},
   "source": [
    "## OOP\n",
    "Same as many conputer language, Python support OOP.   \n",
    "``__init__`` is a dunder that equivalent to the Constructor.  \n",
    "``__repr__`` is equivalent to ToString.  \n"
   ]
  },
  {
   "cell_type": "code",
   "execution_count": 195,
   "id": "9f9873c8",
   "metadata": {},
   "outputs": [],
   "source": [
    "class CountingClicker:\n",
    "    \"\"\"A class can/should have a docstring, just like a function\"\"\"\n",
    "\n",
    "    def __init__(self, count = 0):\n",
    "        self.count = count\n",
    "\n",
    "    def __repr__(self):\n",
    "        return f\"CountingClicker(count={self.count})\"\n",
    "\n",
    "    def click(self, num_times = 1):\n",
    "        \"\"\"Click the clicker some number of times.\"\"\"\n",
    "        self.count += num_times\n",
    "\n",
    "    def read(self):\n",
    "        return self.count\n",
    "\n",
    "    def reset(self):\n",
    "        self.count = 0\n",
    "\n",
    "clicker = CountingClicker()\n",
    "assert clicker.read() == 0, \"clicker should start with count 0\"\n",
    "clicker.click()\n",
    "clicker.click()\n",
    "assert clicker.read() == 2, \"after two clicks, clicker should have count 2\"\n",
    "clicker.reset()\n",
    "assert clicker.read() == 0, \"after reset, clicker should be back to 0\"\n",
    "\n"
   ]
  },
  {
   "cell_type": "markdown",
   "id": "0bdfbcd6",
   "metadata": {},
   "source": [
    "Inherit to a new sub class"
   ]
  },
  {
   "cell_type": "code",
   "execution_count": 196,
   "id": "da7cde0f",
   "metadata": {},
   "outputs": [],
   "source": [
    "# A subclass inherits all the behavior of its parent class.\n",
    "class NoResetClicker(CountingClicker):\n",
    "    # This class has all the same methods as CountingClicker\n",
    "\n",
    "    # Except that it has a reset method that does nothing.\n",
    "    def reset(self):\n",
    "        pass\n",
    "\n",
    "clicker2 = NoResetClicker()\n",
    "assert clicker2.read() == 0\n",
    "clicker2.click()\n",
    "assert clicker2.read() == 1\n",
    "clicker2.reset()\n",
    "assert clicker2.read() == 1, \"reset shouldn't do anything\""
   ]
  },
  {
   "cell_type": "markdown",
   "id": "2f51d808",
   "metadata": {},
   "source": [
    "## Generator\n",
    "\n",
    "Sometimes we may need to use an element from the sequencs object but do not want to load the whole element into memory or loop throgh.  \n",
    "One way is to use ``yeild`` to get one element per call. ``generate_range(n)`` return one value per call and stop at ``n`` whiie ``natural_numbers()`` is infinity generator."
   ]
  },
  {
   "cell_type": "code",
   "execution_count": 214,
   "id": "e665f54f",
   "metadata": {},
   "outputs": [
    {
     "name": "stdout",
     "output_type": "stream",
     "text": [
      "<class 'generator'>\n",
      "i: 0\n",
      "i: 1\n",
      "i: 2\n",
      "i: 3\n",
      "i: 4\n"
     ]
    }
   ],
   "source": [
    "# generate n values\n",
    "def generate_range(n):\n",
    "    i = 0\n",
    "    while i < n:\n",
    "        yield i   # every call to yield produces a value of the generator\n",
    "        i += 1      \n",
    "        \n",
    "print(type(generate_range(1)))\n",
    "for i in generate_range(5):\n",
    "    print(f\"i: {i}\")"
   ]
  },
  {
   "cell_type": "markdown",
   "id": "3fa68dcb",
   "metadata": {},
   "source": [
    "Besides the iterator or loop,  ``next(generator)`` return the next value of the current generator"
   ]
  },
  {
   "cell_type": "code",
   "execution_count": 216,
   "id": "fe1acc41",
   "metadata": {},
   "outputs": [
    {
     "name": "stdout",
     "output_type": "stream",
     "text": [
      "1\n",
      "2\n",
      "3\n",
      "  4\n",
      "  5\n",
      "  6\n",
      "  7\n",
      "  8\n",
      "  9\n",
      "  10\n",
      "  11\n",
      "  12\n"
     ]
    }
   ],
   "source": [
    "# Infinity generator\n",
    "def natural_numbers():\n",
    "    \"\"\"returns 1, 2, 3, ...\"\"\"\n",
    "    n = 1\n",
    "    while True:\n",
    "        yield n\n",
    "        n += 1  \n",
    "        \n",
    "        \n",
    "        \n",
    "infinite =  natural_numbers()\n",
    "\n",
    "for i in range(3):\n",
    "    print(next(infinite))\n",
    "for i in range(3):    \n",
    "    for j in range(3):\n",
    "        print(' ',next(infinite))\n",
    "\n",
    "    "
   ]
  },
  {
   "cell_type": "markdown",
   "id": "10bb29c3",
   "metadata": {},
   "source": [
    "More example using generators"
   ]
  },
  {
   "cell_type": "code",
   "execution_count": 206,
   "id": "041097b0",
   "metadata": {},
   "outputs": [],
   "source": [
    "# None of these computations *does* anything until we iterate\n",
    "data = natural_numbers()\n",
    "evens = (x for x in data if x % 2 == 0)\n",
    "even_squares = (x ** 2 for x in evens)\n",
    "even_squares_ending_in_six = (x for x in even_squares if x % 10 == 6)\n",
    "# and so on\n",
    "\n",
    "\n",
    "assert next(even_squares_ending_in_six) == 16\n",
    "assert next(even_squares_ending_in_six) == 36\n",
    "assert next(even_squares_ending_in_six) == 196"
   ]
  },
  {
   "cell_type": "markdown",
   "id": "5c188cf2",
   "metadata": {},
   "source": [
    "To loop through wiht both index or key and assiciated value, use ``enumerate``"
   ]
  },
  {
   "cell_type": "code",
   "execution_count": 219,
   "id": "cf0aa432",
   "metadata": {},
   "outputs": [
    {
     "name": "stdout",
     "output_type": "stream",
     "text": [
      "name 0 is Alice\n",
      "name 1 is Bob\n",
      "name 2 is Charlie\n",
      "name 3 is Debbie\n",
      "name 0 is Alice\n",
      "name 1 is Bob\n",
      "name 2 is Charlie\n",
      "name 3 is Debbie\n",
      "--------\n",
      "name 0 is Alice\n",
      "name 1 is Bob\n",
      "name 2 is Charlie\n",
      "name 3 is Debbie\n",
      "name 0 is Enr\n",
      "name 1 is Mth\n",
      "name 2 is Eng\n"
     ]
    }
   ],
   "source": [
    "names = [\"Alice\", \"Bob\", \"Charlie\", \"Debbie\"]\n",
    "subject = {\"Enr\":\"Engineering\", \"Mth\":\"Math\", \"Eng\":\"English\"}\n",
    "\n",
    "# not Pythonic\n",
    "for i in range(len(names)):\n",
    "    print(f\"name {i} is {names[i]}\")\n",
    "\n",
    "# also not Pythonic\n",
    "i = 0\n",
    "for name in names:\n",
    "    print(f\"name {i} is {names[i]}\")\n",
    "    i += 1\n",
    "print('-'*8)\n",
    "# Pythonic\n",
    "for i, name in enumerate(names):\n",
    "    print(f\"name {i} is {name}\")\n",
    "for i, name in enumerate(subject):\n",
    "    print(f\"name {i} is {name}\")\n"
   ]
  },
  {
   "cell_type": "markdown",
   "id": "5c5b2bb4",
   "metadata": {},
   "source": [
    "## Random\n",
    "Use ``seed(number)`` before call the random to force the same result everytimes.   \n",
    "``random()`` return the values between 0 to 1.  \n",
    "``randomrange(start,stop,step)`` to random specific interval. "
   ]
  },
  {
   "cell_type": "code",
   "execution_count": null,
   "id": "97713458",
   "metadata": {},
   "outputs": [],
   "source": [
    "import random\n",
    "random.seed(10)  # this ensures we get the same results every time\n",
    "\n",
    "four_uniform_randoms = [random.random() for _ in range(4)]\n",
    "\n",
    "# [0.5714025946899135,       # random.random() produces numbers\n",
    "#  0.4288890546751146,       # uniformly between 0 and 1\n",
    "#  0.5780913011344704,       # it's the random function we'll use\n",
    "#  0.20609823213950174]      # most often\n",
    "\n",
    "random.seed(10)         # set the seed to 10\n",
    "print(random.random())  # 0.57140259469\n",
    "random.seed(10)         # reset the seed to 10\n",
    "print(random.random())  # 0.57140259469 again\n",
    "\n",
    "random.randrange(10)    # choose randomly from range(10) = [0, 1, ..., 9]\n",
    "random.randrange(3, 6)  # choose randomly from range(3, 6) = [3, 4, 5]\n"
   ]
  },
  {
   "cell_type": "markdown",
   "id": "58268ce9",
   "metadata": {},
   "source": [
    "``shufle(lst)`` random the list while ``choice(sequence)`` return random selected element. ``sample(population,k)`` return unique ``k`` elelement from ``population``"
   ]
  },
  {
   "cell_type": "code",
   "execution_count": 229,
   "id": "dbc8e53b",
   "metadata": {},
   "outputs": [
    {
     "name": "stdout",
     "output_type": "stream",
     "text": [
      "[6, 3, 8, 2, 9, 5, 4, 7, 1, 10]\n",
      "Bob\n",
      "[5, 1, 3, 5]\n"
     ]
    }
   ],
   "source": [
    "random.seed(10)\n",
    "up_to_ten = [1, 2, 3, 4, 5, 6, 7, 8, 9, 10]\n",
    "random.shuffle(up_to_ten)\n",
    "print(up_to_ten)\n",
    "# [7, 2, 6, 8, 9, 4, 10, 1, 3, 5]   (your results will probably be different)\n",
    "\n",
    "my_best_friend = random.choice( [\"Alice\", \"Bob\", \"Charlie\"])     # \"Bob\" for me\n",
    "print(my_best_friend)\n",
    "\n",
    "lottery_numbers = range(60)\n",
    "\n",
    "winning_numbers = random.sample(lottery_numbers, 6)  # [16, 36, 10, 6, 25, 9]\n",
    "\n",
    "four_with_replacement = [random.choice(range(10)) for _ in range(4)]\n",
    "print(four_with_replacement)  # [9, 4, 4, 2]\n"
   ]
  },
  {
   "cell_type": "markdown",
   "id": "a8a21c9e",
   "metadata": {},
   "source": [
    "## Regular expression"
   ]
  },
  {
   "cell_type": "code",
   "execution_count": 230,
   "id": "43ce8dc6",
   "metadata": {},
   "outputs": [],
   "source": [
    "import re\n",
    "\n",
    "re_examples = [                        # all of these are true, because\n",
    "    not re.match(\"a\", \"cat\"),              #  'cat' doesn't start with 'a'\n",
    "    re.search(\"a\", \"cat\"),                 #  'cat' has an 'a' in it\n",
    "    not re.search(\"c\", \"dog\"),             #  'dog' doesn't have a 'c' in it\n",
    "    3 == len(re.split(\"[ab]\", \"carbs\")),   #  split on a or b to ['c','r','s']\n",
    "    \"R-D-\" == re.sub(\"[0-9]\", \"-\", \"R2D2\") #  replace digits with dashes\n",
    "    ]\n",
    "\n",
    "assert all(re_examples), \"all the regex examples should be True\""
   ]
  },
  {
   "cell_type": "markdown",
   "id": "a9e1d9ab",
   "metadata": {},
   "source": [
    "## zip\n",
    "Pack variable into one group, if the sequence is not equals, ``zip`` will stop at the shoter."
   ]
  },
  {
   "cell_type": "code",
   "execution_count": 245,
   "id": "cbf6f4eb",
   "metadata": {},
   "outputs": [
    {
     "name": "stdout",
     "output_type": "stream",
     "text": [
      "[('a', 1), ('b', 2), ('c', 3)]\n",
      "('a', 1) ('b', 2) ('c', 3)\n"
     ]
    }
   ],
   "source": [
    "list1 = ['a', 'b', 'c']\n",
    "list2 = [1, 2, 3]\n",
    "\n",
    "# zip is lazy, so you have to do something like the following\n",
    "pairs = [pair for pair in zip(list1, list2)]    # is [('a', 1), ('b', 2), ('c', 3)]\n",
    "\n",
    "assert pairs == [('a', 1), ('b', 2), ('c', 3)]\n",
    "\n",
    "print(pairs)\n",
    "print(*pairs)"
   ]
  },
  {
   "cell_type": "markdown",
   "id": "a20ec209",
   "metadata": {},
   "source": [
    "``zip(*pairs)`` , ``*`` split each element for pair then the ``zip`` merge it back"
   ]
  },
  {
   "cell_type": "code",
   "execution_count": 247,
   "id": "40b7e178",
   "metadata": {},
   "outputs": [],
   "source": [
    "letters, numbers = zip(*pairs)\n",
    "# the equivalent\n",
    "letters, numbers = zip(('a', 1), ('b', 2), ('c', 3))"
   ]
  },
  {
   "cell_type": "markdown",
   "id": "a59564bc",
   "metadata": {},
   "source": [
    "We can use ``*`` to spit the argument of the function. ``add(a,b)`` recieve two arguement, so send a list is not allowed but we can use ``*`` to split the elements to two arguements."
   ]
  },
  {
   "cell_type": "code",
   "execution_count": null,
   "id": "82db7760",
   "metadata": {},
   "outputs": [],
   "source": [
    "def add(a, b): return a + b\n",
    "\n",
    "add(1, 2)      # returns 3\n",
    "try:\n",
    "    add([1, 2])\n",
    "except TypeError:\n",
    "    print(\"add expects two inputs\")\n",
    "add(*[1, 2])   # returns 3"
   ]
  },
  {
   "cell_type": "markdown",
   "id": "94ff7f5f",
   "metadata": {},
   "source": [
    "## ``arg`` and ``kwargs`` \n",
    "``doubleer(f)`` receive a function ``f`` and return two times ``f``, ``g(3)`` and ``g(-1)`` worked as expected becuase ``f1(x)`` only one arguemnt."
   ]
  },
  {
   "cell_type": "code",
   "execution_count": 251,
   "id": "1ec23db9",
   "metadata": {},
   "outputs": [],
   "source": [
    "def doubler(f):\n",
    "    # Here we define a new function that keeps a reference to f\n",
    "    def g(x):\n",
    "        return 2 * f(x)\n",
    "\n",
    "    # And return that new function.\n",
    "    return g\n",
    "\n",
    "def f1(x):\n",
    "    return x + 1\n",
    "\n",
    "g = doubler(f1)\n",
    "assert g(3) == 8,  \"(3 + 1) * 2 should equal 8\"\n",
    "assert g(-1) == 0, \"(-1 + 1) * 2 should equal 0\""
   ]
  },
  {
   "cell_type": "markdown",
   "id": "aa908a6e",
   "metadata": {},
   "source": [
    " But this does not work for ``f2(x,y)`` or multiple arguemnts functions."
   ]
  },
  {
   "cell_type": "code",
   "execution_count": 252,
   "id": "f0a8593a",
   "metadata": {},
   "outputs": [
    {
     "name": "stdout",
     "output_type": "stream",
     "text": [
      "as defined, g only takes one argument\n"
     ]
    }
   ],
   "source": [
    "def f2(x, y):\n",
    "    return x + y\n",
    "\n",
    "g = doubler(f2)\n",
    "try:\n",
    "    g(1, 2)\n",
    "except TypeError:\n",
    "    print(\"as defined, g only takes one argument\")"
   ]
  },
  {
   "cell_type": "markdown",
   "id": "de399261",
   "metadata": {},
   "source": [
    "To solve that limitation, use ``*args`` and ``**kwrgs``  catch all arguments that are passed. This mean that the function is unlimited number of arguemnts. \n",
    "Unnamed or positioning arguemt catched by tuple ``*args``.  \n",
    "Keyword argument catched by dictionary ``**kwrgs``."
   ]
  },
  {
   "cell_type": "code",
   "execution_count": 255,
   "id": "aa76dc24",
   "metadata": {},
   "outputs": [
    {
     "name": "stdout",
     "output_type": "stream",
     "text": [
      "unnamed args: (1, 2)\n",
      "keyword args: {'key': 'word', 'key2': 'word2'}\n"
     ]
    }
   ],
   "source": [
    "def magic(*args, **kwargs):\n",
    "    print(\"unnamed args:\", args)\n",
    "    print(\"keyword args:\", kwargs)\n",
    "magic(1, 2, key=\"word\", key2=\"word2\")"
   ]
  },
  {
   "cell_type": "markdown",
   "id": "d7cbfb09",
   "metadata": {},
   "source": [
    "The flexible new version of ``double(f)`` change  ``g(x)`` to ``g(*args, **kwargs)``"
   ]
  },
  {
   "cell_type": "code",
   "execution_count": 256,
   "id": "a1a0df6a",
   "metadata": {},
   "outputs": [],
   "source": [
    "def doubler_correct(f):\n",
    "    \"\"\"works no matter what kind of inputs f expects\"\"\"\n",
    "    def g(*args, **kwargs):\n",
    "        \"\"\"whatever arguments g is supplied, pass them through to f\"\"\"\n",
    "        return 2 * f(*args, **kwargs)\n",
    "    return g\n",
    "\n",
    "g = doubler_correct(f2)\n",
    "assert g(1, 2) == 6, \"doubler should work now\""
   ]
  },
  {
   "cell_type": "markdown",
   "id": "7759cad1",
   "metadata": {},
   "source": [
    "## Type declaration in function\n",
    "\n",
    "By defualt, it not necessary to declare type of arguments or type of return. However, it quite very hard to maintain the code and readability. ``addd(a,b)`` not  specify the types, so user may accidentally calls ``add(1,'five')`` that leads to unproper outcome ``TypeError``."
   ]
  },
  {
   "cell_type": "code",
   "execution_count": 1,
   "id": "bbfd381e",
   "metadata": {},
   "outputs": [
    {
     "name": "stdout",
     "output_type": "stream",
     "text": [
      "cannot add an int to a string\n"
     ]
    }
   ],
   "source": [
    "def add(a, b):\n",
    "    return a + b\n",
    "\n",
    "assert add(10, 5) == 15,                  \"+ is valid for numbers\"\n",
    "assert add([1, 2], [3]) == [1, 2, 3],     \"+ is valid for lists\"\n",
    "assert add(\"hi \", \"there\") == \"hi there\", \"+ is valid for strings\"\n",
    "\n",
    "try:\n",
    "    print(\"add(10,\\\"five\\\") = \",add(10, \"five\"))  # you'd like this to be not OK\n",
    "    \n",
    "except TypeError:\n",
    "    print(\"cannot add an int to a string\")\n",
    "\n"
   ]
  },
  {
   "cell_type": "markdown",
   "id": "6c18401c",
   "metadata": {},
   "source": [
    "However, declare data type not prevent to pass wrong data, but at least it improve readability.\n",
    "To spacify the argument and return type:"
   ]
  },
  {
   "cell_type": "code",
   "execution_count": 6,
   "id": "6dba69a0",
   "metadata": {},
   "outputs": [
    {
     "name": "stdout",
     "output_type": "stream",
     "text": [
      "Add(10,5) =  15\n",
      "Add(\"hi\",\"there\") =  hi there\n"
     ]
    }
   ],
   "source": [
    "def Add(a: int, b: int) -> int:\n",
    "    return a + b\n",
    "\n",
    "print(\"Add(10,5) = \",Add(10, 5))           # you'd like this to be OK\n",
    "print(\"Add(\\\"hi\\\",\\\"there\\\") = \",Add(\"hi \", \"there\"))  # you'd like this to be not OK\n"
   ]
  },
  {
   "cell_type": "markdown",
   "id": "88ed8c48",
   "metadata": {},
   "source": [
    "Other sample for specific type function"
   ]
  },
  {
   "cell_type": "code",
   "execution_count": 9,
   "id": "bbb78575",
   "metadata": {},
   "outputs": [],
   "source": [
    "# This is not in the book, but it's needed\n",
    "# to make the `dot_product` stubs not error out.\n",
    "from typing import List\n",
    "Vector = List[float]\n",
    "\n",
    "def dot_product(x, y): ...\n",
    "\n",
    "# we have not yet defined Vector, but imagine we had\n",
    "def dot_product(x: Vector, y: Vector) -> float: ...\n"
   ]
  },
  {
   "cell_type": "code",
   "execution_count": 258,
   "id": "8eea8c9b",
   "metadata": {},
   "outputs": [],
   "source": [
    "\n",
    "from typing import Union\n",
    "\n",
    "def secretly_ugly_function(value, operation): ...\n",
    "\n",
    "def ugly_function(value: int, operation: Union[str, int, float, bool]) -> int:\n",
    "    ...\n",
    "\n",
    "def total(xs: list) -> float:\n",
    "    return sum(xs)\n",
    "\n",
    "from typing import List  # note capital L\n",
    "\n",
    "def total(xs: List[float]) -> float:\n",
    "    return sum(xs)\n",
    "\n",
    "# This is how to type-annotate variables when you define them.\n",
    "# But this is unnecessary; it's \"obvious\" x is an int.\n",
    "x: int = 5\n",
    "\n",
    "values = []         # what's my type?\n",
    "best_so_far = None  # what's my type?\n",
    "\n",
    "from typing import Optional\n",
    "\n",
    "values: List[int] = []\n",
    "best_so_far: Optional[float] = None  # allowed to be either a float or None\n",
    "\n",
    "\n",
    "lazy = True\n",
    "\n",
    "# the type annotations in this snippet are all unnecessary\n",
    "from typing import Dict, Iterable, Tuple\n",
    "\n",
    "# keys are strings, values are ints\n",
    "counts: Dict[str, int] = {'data': 1, 'science': 2}\n",
    "\n",
    "# lists and generators are both iterable\n",
    "if lazy:\n",
    "    evens: Iterable[int] = (x for x in range(10) if x % 2 == 0)\n",
    "else:\n",
    "    evens = [0, 2, 4, 6, 8]\n",
    "\n",
    "# tuples specify a type for each element\n",
    "triple: Tuple[int, float, int] = (10, 2.3, 5)\n",
    "\n",
    "from typing import Callable\n",
    "\n",
    "# The type hint says that repeater is a function that takes\n",
    "# two arguments, a string and an int, and returns a string.\n",
    "def twice(repeater: Callable[[str, int], str], s: str) -> str:\n",
    "    return repeater(s, 2)\n",
    "\n",
    "def comma_repeater(s: str, n: int) -> str:\n",
    "    n_copies = [s for _ in range(n)]\n",
    "    return ', '.join(n_copies)\n",
    "\n",
    "assert twice(comma_repeater, \"type hints\") == \"type hints, type hints\"\n",
    "\n",
    "Number = int\n",
    "Numbers = List[Number]\n",
    "\n",
    "def total(xs: Numbers) -> Number:\n",
    "    return sum(xs)\n"
   ]
  },
  {
   "cell_type": "code",
   "execution_count": null,
   "id": "dcebed1f",
   "metadata": {},
   "outputs": [],
   "source": []
  },
  {
   "cell_type": "code",
   "execution_count": null,
   "id": "db210987",
   "metadata": {},
   "outputs": [],
   "source": []
  },
  {
   "cell_type": "code",
   "execution_count": null,
   "id": "5ec5a5d6",
   "metadata": {},
   "outputs": [],
   "source": []
  }
 ],
 "metadata": {
  "kernelspec": {
   "display_name": "Python 3",
   "language": "python",
   "name": "python3"
  },
  "language_info": {
   "codemirror_mode": {
    "name": "ipython",
    "version": 3
   },
   "file_extension": ".py",
   "mimetype": "text/x-python",
   "name": "python",
   "nbconvert_exporter": "python",
   "pygments_lexer": "ipython3",
   "version": "3.8.8"
  },
  "widgets": {
   "application/vnd.jupyter.widget-state+json": {
    "state": {},
    "version_major": 2,
    "version_minor": 0
   }
  }
 },
 "nbformat": 4,
 "nbformat_minor": 5
}
