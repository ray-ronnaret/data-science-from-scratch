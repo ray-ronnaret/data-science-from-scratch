{
 "cells": [
  {
   "cell_type": "markdown",
   "id": "7b02310e",
   "metadata": {},
   "source": [
    "---"
   ]
  },
  {
   "cell_type": "markdown",
   "id": "0533907c",
   "metadata": {},
   "source": [
    "# Charpter 1 :Introduction"
   ]
  },
  {
   "cell_type": "markdown",
   "id": "7644fcc5",
   "metadata": {},
   "source": [
    "---"
   ]
  },
  {
   "cell_type": "markdown",
   "id": "7a90af0d",
   "metadata": {},
   "source": [
    "This notebook is implement the code from **Joel Grus, Data Science form Scratch, chapter 1 intorduction.py.**\n",
    "\n",
    "\n"
   ]
  },
  {
   "cell_type": "markdown",
   "id": "47c57cb0",
   "metadata": {},
   "source": [
    "## ``users``\n",
    "The requrirement gives us a **list of dicts**, ``users``, each dict element contains `\"id\"` and ``\"name\"``."
   ]
  },
  {
   "cell_type": "code",
   "execution_count": 6,
   "id": "a23270e3",
   "metadata": {},
   "outputs": [
    {
     "data": {
      "text/plain": [
       "(list,\n",
       " [{'id': 0, 'name': 'Hero'},\n",
       "  {'id': 1, 'name': 'Dunn'},\n",
       "  {'id': 2, 'name': 'Sue'},\n",
       "  {'id': 3, 'name': 'Chi'},\n",
       "  {'id': 4, 'name': 'Thor'},\n",
       "  {'id': 5, 'name': 'Clive'},\n",
       "  {'id': 6, 'name': 'Hicks'},\n",
       "  {'id': 7, 'name': 'Devin'},\n",
       "  {'id': 8, 'name': 'Kate'},\n",
       "  {'id': 9, 'name': 'Klein'}])"
      ]
     },
     "execution_count": 6,
     "metadata": {},
     "output_type": "execute_result"
    }
   ],
   "source": [
    "users = [\n",
    "    { \"id\": 0, \"name\": \"Hero\" },\n",
    "    { \"id\": 1, \"name\": \"Dunn\" },\n",
    "    { \"id\": 2, \"name\": \"Sue\" },\n",
    "    { \"id\": 3, \"name\": \"Chi\" },\n",
    "    { \"id\": 4, \"name\": \"Thor\" },\n",
    "    { \"id\": 5, \"name\": \"Clive\" },\n",
    "    { \"id\": 6, \"name\": \"Hicks\" },\n",
    "    { \"id\": 7, \"name\": \"Devin\" },\n",
    "    { \"id\": 8, \"name\": \"Kate\" },\n",
    "    { \"id\": 9, \"name\": \"Klein\" }\n",
    "]\n",
    "\n",
    "type(users), users"
   ]
  },
  {
   "cell_type": "code",
   "execution_count": 7,
   "id": "cf8647d3",
   "metadata": {},
   "outputs": [
    {
     "data": {
      "text/plain": [
       "(5, 'Clive')"
      ]
     },
     "execution_count": 7,
     "metadata": {},
     "output_type": "execute_result"
    }
   ],
   "source": [
    "users[5][\"id\"], users[5][\"name\"]"
   ]
  },
  {
   "cell_type": "markdown",
   "id": "fd7aa559",
   "metadata": {},
   "source": [
    "## ``friendship_pairs`` and  ``friendships``\n",
    "The requirement also gives us a list of pair of friend, each ``users`` be friend with the other define by the tupple of id. So (0,1) means ``\"Hero\"`` and ``\"Dunn\"`` knowing each other.\n",
    "``friendship_pairs`` is the **list of tupple** contains this relation.\n"
   ]
  },
  {
   "cell_type": "code",
   "execution_count": 8,
   "id": "d56c2a99",
   "metadata": {},
   "outputs": [
    {
     "data": {
      "text/plain": [
       "(list,\n",
       " [(0, 1),\n",
       "  (0, 2),\n",
       "  (1, 2),\n",
       "  (1, 3),\n",
       "  (2, 3),\n",
       "  (3, 4),\n",
       "  (4, 5),\n",
       "  (5, 6),\n",
       "  (5, 7),\n",
       "  (6, 8),\n",
       "  (7, 8),\n",
       "  (8, 9)])"
      ]
     },
     "execution_count": 8,
     "metadata": {},
     "output_type": "execute_result"
    }
   ],
   "source": [
    "friendship_pairs = [(0, 1), (0, 2), (1, 2), (1, 3), (2, 3), (3, 4),\n",
    "                    (4, 5), (5, 6), (5, 7), (6, 8), (7, 8), (8, 9)]\n",
    "#friendship_pairs.sort(reverse=False)\n",
    "type(friendship_pairs), friendship_pairs"
   ]
  },
  {
   "cell_type": "markdown",
   "id": "52942447",
   "metadata": {},
   "source": [
    "The ``friendships`` is our data structure, ``dict``  to mapping the ``users[\"id\"]`` and ``friendship_pairs``. "
   ]
  },
  {
   "cell_type": "code",
   "execution_count": 9,
   "id": "f8e9812f",
   "metadata": {},
   "outputs": [
    {
     "data": {
      "text/plain": [
       "(dict, {0: [], 1: [], 2: [], 3: [], 4: [], 5: [], 6: [], 7: [], 8: [], 9: []})"
      ]
     },
     "execution_count": 9,
     "metadata": {},
     "output_type": "execute_result"
    }
   ],
   "source": [
    "# Initialize the dict with an empty list for each user id:\n",
    "friendships = {user[\"id\"]: [] for user in users}\n",
    "type(friendships),friendships"
   ]
  },
  {
   "cell_type": "code",
   "execution_count": 10,
   "id": "411413af",
   "metadata": {},
   "outputs": [
    {
     "data": {
      "text/plain": [
       "({0: [1, 2],\n",
       "  1: [0, 2, 3],\n",
       "  2: [0, 1, 3],\n",
       "  3: [1, 2, 4],\n",
       "  4: [3, 5],\n",
       "  5: [4, 6, 7],\n",
       "  6: [5, 8],\n",
       "  7: [5, 8],\n",
       "  8: [6, 7, 9],\n",
       "  9: [8]},\n",
       " [5, 8])"
      ]
     },
     "execution_count": 10,
     "metadata": {},
     "output_type": "execute_result"
    }
   ],
   "source": [
    "# And loop over the friendship pairs to populate it:\n",
    "for i, j in friendship_pairs:\n",
    "    friendships[i].append(j)  # Add j as a friend of user i\n",
    "    friendships[j].append(i)  # Add i as a friend of user j\n",
    "    \n",
    "    \n",
    "friendships, friendships[7]"
   ]
  },
  {
   "cell_type": "markdown",
   "id": "c1d4d4d2",
   "metadata": {},
   "source": [
    "## ``number_of_friends(user)`` and ``avg_connections``\n",
    "A function utillity to count number of friend for a given user. "
   ]
  },
  {
   "cell_type": "code",
   "execution_count": 107,
   "id": "1c88a160",
   "metadata": {},
   "outputs": [],
   "source": [
    "def number_of_friends(user):\n",
    "    \"\"\"How many friends does _user_ have?\"\"\"\n",
    "    user_id = user[\"id\"]\n",
    "    friend_ids = friendships[user_id]\n",
    "    return len(friend_ids)"
   ]
  },
  {
   "cell_type": "code",
   "execution_count": 108,
   "id": "28ad3dce",
   "metadata": {},
   "outputs": [
    {
     "data": {
      "text/plain": [
       "2"
      ]
     },
     "execution_count": 108,
     "metadata": {},
     "output_type": "execute_result"
    }
   ],
   "source": [
    "number_of_friends(users[0])"
   ]
  },
  {
   "cell_type": "code",
   "execution_count": 109,
   "id": "b3e3080b",
   "metadata": {},
   "outputs": [
    {
     "data": {
      "text/plain": [
       "[(0, 2),\n",
       " (1, 3),\n",
       " (2, 3),\n",
       " (3, 3),\n",
       " (4, 2),\n",
       " (5, 3),\n",
       " (6, 2),\n",
       " (7, 2),\n",
       " (8, 3),\n",
       " (9, 1)]"
      ]
     },
     "execution_count": 109,
     "metadata": {},
     "output_type": "execute_result"
    }
   ],
   "source": [
    "[ (user[\"id\"], number_of_friends(user) )      for user in users]    "
   ]
  },
  {
   "cell_type": "code",
   "execution_count": 98,
   "id": "d471922b",
   "metadata": {},
   "outputs": [
    {
     "name": "stdout",
     "output_type": "stream",
     "text": [
      "{'id': 0, 'name': 'Hero'} has 2 friends\n",
      "{'id': 1, 'name': 'Dunn'} has 3 friends\n",
      "{'id': 2, 'name': 'Sue'} has 3 friends\n",
      "{'id': 3, 'name': 'Chi'} has 3 friends\n",
      "{'id': 4, 'name': 'Thor'} has 2 friends\n",
      "{'id': 5, 'name': 'Clive'} has 3 friends\n",
      "{'id': 6, 'name': 'Hicks'} has 2 friends\n",
      "{'id': 7, 'name': 'Devin'} has 2 friends\n",
      "{'id': 8, 'name': 'Kate'} has 3 friends\n",
      "{'id': 9, 'name': 'Klein'} has 1 friends\n"
     ]
    }
   ],
   "source": [
    "for u in users:\n",
    "    print(\"{} has {} friends\".format(u,number_of_friends(u)))    "
   ]
  },
  {
   "cell_type": "markdown",
   "id": "3c7e97ec",
   "metadata": {},
   "source": [
    "From the ``number_of_friends`` calculate the ``total_connections`` and  ``avg_connections``"
   ]
  },
  {
   "cell_type": "code",
   "execution_count": 92,
   "id": "fa847ab4",
   "metadata": {},
   "outputs": [],
   "source": [
    "total_connections = sum(number_of_friends(user)\n",
    "                        for user in users)        \n",
    "assert total_connections == 24"
   ]
  },
  {
   "cell_type": "code",
   "execution_count": 87,
   "id": "b63dc5f2",
   "metadata": {},
   "outputs": [],
   "source": [
    "num_users = len(users)                            # length of the users list\n",
    "avg_connections = total_connections / num_users   # 24 / 10 == 2.4\n",
    "\n",
    "assert num_users == 10\n",
    "assert avg_connections == 2.4"
   ]
  },
  {
   "cell_type": "markdown",
   "id": "eefccab4",
   "metadata": {},
   "source": [
    "## ``num_friends_by_id`` \n",
    "A **list of tupple** contains the ``user[\"id\"]`` and number of his friends."
   ]
  },
  {
   "cell_type": "code",
   "execution_count": 114,
   "id": "9f592746",
   "metadata": {},
   "outputs": [
    {
     "name": "stdout",
     "output_type": "stream",
     "text": [
      "<class 'list'>\n",
      "[(0, 2), (1, 3), (2, 3), (3, 3), (4, 2), (5, 3), (6, 2), (7, 2), (8, 3), (9, 1)]\n",
      "(9, 1)\n",
      "8\n",
      "3\n"
     ]
    }
   ],
   "source": [
    "# Create a list of tuples (user_id, number_of_friends).\n",
    "num_friends_by_id = [(user[\"id\"], number_of_friends(user))\n",
    "                     for user in users]\n",
    "print(type(num_friends_by_id), num_friends_by_id, num_friends_by_id[9],num_friends_by_id[8][0], num_friends_by_id[8][1], sep='\\n')"
   ]
  },
  {
   "cell_type": "markdown",
   "id": "2d35b84c",
   "metadata": {},
   "source": [
    "Since we create ``num_friends_by_id`` by ``user`` object, we can sort the data by set ``key`` to ``user[\"id\"]`` use ``id_and_friends[0]`` or by number of his friend use ``id_and_friends[1]`` in the sort function. Note the ``id_and_friends`` is just a name refer to the tupple."
   ]
  },
  {
   "cell_type": "code",
   "execution_count": 115,
   "id": "d729a870",
   "metadata": {},
   "outputs": [
    {
     "data": {
      "text/plain": [
       "[(1, 3),\n",
       " (2, 3),\n",
       " (3, 3),\n",
       " (5, 3),\n",
       " (8, 3),\n",
       " (0, 2),\n",
       " (4, 2),\n",
       " (6, 2),\n",
       " (7, 2),\n",
       " (9, 1)]"
      ]
     },
     "execution_count": 115,
     "metadata": {},
     "output_type": "execute_result"
    }
   ],
   "source": [
    "# Sort the list by num_friends, use the tupple[index]\n",
    "# num_friends_by_id.sort( key=lambda a: a[0], reverse=True)                                       \n",
    "num_friends_by_id.sort(                               \n",
    "       key=lambda id_and_friends: id_and_friends[1], reverse=True)                                   \n",
    "num_friends_by_id\n",
    "assert num_friends_by_id[0][1] == 3     # several people have 3 friends\n",
    "assert num_friends_by_id[-1] == (9, 1)  # user 9 has only 1 friend\n",
    "num_friends_by_id"
   ]
  },
  {
   "cell_type": "markdown",
   "id": "64e82099",
   "metadata": {},
   "source": [
    "## friend of friend ``foaf_ids_bad(user)`` and ``friends_of_friends(user)`` \n",
    "\n",
    "A utillity to finding the friend of friend, this version is not a good way since the duplication and the performance.\n",
    "Send a user, by the ``user[\"id\"]``, the first loop fetch all his friend in to ``friend_id`` send it to second loop, find the friend of friend, then return by the **list comprehension**, [ ] .\n"
   ]
  },
  {
   "cell_type": "code",
   "execution_count": 116,
   "id": "c289ce2e",
   "metadata": {},
   "outputs": [
    {
     "data": {
      "text/plain": [
       "[1, 2, 0, 1, 3, 1, 2, 4]"
      ]
     },
     "execution_count": 116,
     "metadata": {},
     "output_type": "execute_result"
    }
   ],
   "source": [
    "def foaf_ids_bad(user):\n",
    "    \"\"\"foaf is short for \"friend of a friend\" \"\"\"\n",
    "    return [foaf_id\n",
    "            for friend_id in friendships[user[\"id\"]]\n",
    "            for foaf_id in friendships[friend_id] ]\n",
    "assert foaf_ids_bad(users[0]) == [0, 2, 3, 0, 1, 3]\n",
    "assert foaf_ids_bad(users[1]) == [1, 2, 0, 1, 3, 1, 2, 4]"
   ]
  },
  {
   "cell_type": "markdown",
   "id": "b993f62a",
   "metadata": {},
   "source": [
    "The other way follow the book is ``Counter``"
   ]
  },
  {
   "cell_type": "code",
   "execution_count": 138,
   "id": "52fde273",
   "metadata": {},
   "outputs": [
    {
     "name": "stdout",
     "output_type": "stream",
     "text": [
      "Counter({0: 2, 5: 1})\n"
     ]
    }
   ],
   "source": [
    "from collections import Counter                   # not loaded by default\n",
    "\n",
    "def friends_of_friends(user):\n",
    "    user_id = user[\"id\"]\n",
    "    return Counter(\n",
    "        foaf_id\n",
    "        for friend_id in friendships[user_id]     # For each of my friends,\n",
    "        for foaf_id in friendships[friend_id]     # find their friends\n",
    "        if foaf_id != user_id                     # who aren't me\n",
    "        and foaf_id not in friendships[user_id]   # and aren't my friends.\n",
    "    )\n",
    "\n",
    "\n",
    "print(friends_of_friends(users[3]))               # Counter({0: 2, 5: 1})\n",
    "\n",
    "\n",
    "assert friends_of_friends(users[3]) == Counter({0: 2, 5: 1})"
   ]
  },
  {
   "cell_type": "code",
   "execution_count": null,
   "id": "59a93c7d",
   "metadata": {},
   "outputs": [],
   "source": []
  },
  {
   "cell_type": "markdown",
   "id": "875efc94",
   "metadata": {},
   "source": [
    "I would like to remark that one way to fix the duplicated is, change the return to be  ``set``. Instead of list comprehension [], use { }."
   ]
  },
  {
   "cell_type": "code",
   "execution_count": 139,
   "id": "67bd9447",
   "metadata": {},
   "outputs": [
    {
     "data": {
      "text/plain": [
       "{0, 1, 2, 3}"
      ]
     },
     "execution_count": 139,
     "metadata": {},
     "output_type": "execute_result"
    }
   ],
   "source": [
    "def foaf_ids(user):\n",
    "    \"\"\"foaf is short for \"friend of a friend\" \"\"\"\n",
    "    return {\n",
    "            foaf_id\n",
    "            for friend_id in friendships[ user[\"id\"] ]\n",
    "                for foaf_id in friendships[friend_id] }\n",
    "foaf_ids(users[0])"
   ]
  },
  {
   "cell_type": "markdown",
   "id": "4a20a45b",
   "metadata": {},
   "source": [
    "## ``interests`` \n",
    "The requirement provides the **list of tuple**, each tuple contanis the pair of user['id'] and the interested topics. "
   ]
  },
  {
   "cell_type": "code",
   "execution_count": 140,
   "id": "cbf007bf",
   "metadata": {},
   "outputs": [
    {
     "name": "stdout",
     "output_type": "stream",
     "text": [
      "<class 'list'> <class 'tuple'>\n",
      "(0, 'Hadoop')\n"
     ]
    }
   ],
   "source": [
    "interests = [\n",
    "    (0, \"Hadoop\"), (0, \"Big Data\"), (0, \"HBase\"), (0, \"Java\"),\n",
    "    (0, \"Spark\"), (0, \"Storm\"), (0, \"Cassandra\"),\n",
    "    (1, \"NoSQL\"), (1, \"MongoDB\"), (1, \"Cassandra\"), (1, \"HBase\"),\n",
    "    (1, \"Postgres\"), (2, \"Python\"), (2, \"scikit-learn\"), (2, \"scipy\"),\n",
    "    (2, \"numpy\"), (2, \"statsmodels\"), (2, \"pandas\"), (3, \"R\"), (3, \"Python\"),\n",
    "    (3, \"statistics\"), (3, \"regression\"), (3, \"probability\"),\n",
    "    (4, \"machine learning\"), (4, \"regression\"), (4, \"decision trees\"),\n",
    "    (4, \"libsvm\"), (5, \"Python\"), (5, \"R\"), (5, \"Java\"), (5, \"C++\"),\n",
    "    (5, \"Haskell\"), (5, \"programming languages\"), (6, \"statistics\"),\n",
    "    (6, \"probability\"), (6, \"mathematics\"), (6, \"theory\"),\n",
    "    (7, \"machine learning\"), (7, \"scikit-learn\"), (7, \"Mahout\"),\n",
    "    (7, \"neural networks\"), (8, \"neural networks\"), (8, \"deep learning\"),\n",
    "    (8, \"Big Data\"), (8, \"artificial intelligence\"), (9, \"Hadoop\"),\n",
    "    (9, \"Java\"), (9, \"MapReduce\"), (9, \"Big Data\")\n",
    "]\n",
    "\n",
    "print(type(interests), type(interests[9]))\n",
    "print(interests[0])"
   ]
  },
  {
   "cell_type": "markdown",
   "id": "dff592dd",
   "metadata": {},
   "source": [
    "To find who interest in a topic, use the function that return list of user id who interrest the same topic."
   ]
  },
  {
   "cell_type": "code",
   "execution_count": 141,
   "id": "6048e147",
   "metadata": {},
   "outputs": [
    {
     "data": {
      "text/plain": [
       "[0, 5, 9]"
      ]
     },
     "execution_count": 141,
     "metadata": {},
     "output_type": "execute_result"
    }
   ],
   "source": [
    "def data_scientists_who_like(target_interest):\n",
    "    \"\"\"Find the ids of all users who like the target interest.\"\"\"\n",
    "    return [user_id\n",
    "            for user_id, user_interest in interests\n",
    "            if user_interest == target_interest]\n",
    "data_scientists_who_like('Java')"
   ]
  },
  {
   "cell_type": "markdown",
   "id": "1bcd6c9d",
   "metadata": {},
   "source": [
    "Because the ``data_scientists_who_like`` scan theh whole list every times called, rather than, use a ``defualtdict`` stotred the pair of user and interesting, and vice versa."
   ]
  },
  {
   "cell_type": "code",
   "execution_count": 142,
   "id": "a34275d8",
   "metadata": {},
   "outputs": [
    {
     "data": {
      "text/plain": [
       "[0, 5, 9]"
      ]
     },
     "execution_count": 142,
     "metadata": {},
     "output_type": "execute_result"
    }
   ],
   "source": [
    "from collections import defaultdict\n",
    "\n",
    "# Keys are interests, values are lists of user_ids with that interest\n",
    "user_ids_by_interest = defaultdict(list)\n",
    "\n",
    "for user_id, interest in interests:\n",
    "    user_ids_by_interest[interest].append(user_id)\n",
    "\n",
    "user_ids_by_interest[\"Java\"]"
   ]
  },
  {
   "cell_type": "code",
   "execution_count": 143,
   "id": "1e36637d",
   "metadata": {},
   "outputs": [
    {
     "data": {
      "text/plain": [
       "['Hadoop', 'Big Data', 'HBase', 'Java', 'Spark', 'Storm', 'Cassandra']"
      ]
     },
     "execution_count": 143,
     "metadata": {},
     "output_type": "execute_result"
    }
   ],
   "source": [
    "# Keys are user_ids, values are lists of interests for that user_id.\n",
    "interests_by_user_id = defaultdict(list)\n",
    "\n",
    "for user_id, interest in interests:\n",
    "    interests_by_user_id[user_id].append(interest)\n",
    "interests_by_user_id[0]    "
   ]
  },
  {
   "cell_type": "markdown",
   "id": "d4377d95",
   "metadata": {},
   "source": [
    "Bad habbit"
   ]
  },
  {
   "cell_type": "code",
   "execution_count": 167,
   "id": "d11a8afb",
   "metadata": {},
   "outputs": [
    {
     "data": {
      "text/plain": [
       "3"
      ]
     },
     "execution_count": 167,
     "metadata": {},
     "output_type": "execute_result"
    }
   ],
   "source": [
    "def most_common_interests_with(user):\n",
    "    return Counter(\n",
    "        interested_user_id\n",
    "        for interest in interests_by_user_id[user[\"id\"]]\n",
    "        for interested_user_id in user_ids_by_interest[interest]\n",
    "        if interested_user_id != user[\"id\"]\n",
    "    )\n",
    "number_of_friends(users[1])"
   ]
  },
  {
   "cell_type": "code",
   "execution_count": 164,
   "id": "f3b22fce",
   "metadata": {},
   "outputs": [
    {
     "data": {
      "text/plain": [
       "(1, Counter({0: 2}), 2)"
      ]
     },
     "execution_count": 164,
     "metadata": {},
     "output_type": "execute_result"
    }
   ],
   "source": [
    "c=most_common_interests_with(users[1])\n",
    "len(c),c, c[0]"
   ]
  },
  {
   "cell_type": "markdown",
   "id": "d9a12d6b",
   "metadata": {},
   "source": [
    "## ``salary_by_tenure`` "
   ]
  },
  {
   "cell_type": "code",
   "execution_count": 176,
   "id": "7af2aec8",
   "metadata": {},
   "outputs": [
    {
     "data": {
      "text/plain": [
       "{8.7: 83000.0,\n",
       " 8.1: 88000.0,\n",
       " 0.7: 48000.0,\n",
       " 6: 76000.0,\n",
       " 6.5: 69000.0,\n",
       " 7.5: 76000.0,\n",
       " 2.5: 60000.0,\n",
       " 10: 83000.0,\n",
       " 1.9: 48000.0,\n",
       " 4.2: 63000.0}"
      ]
     },
     "execution_count": 176,
     "metadata": {},
     "output_type": "execute_result"
    }
   ],
   "source": [
    "salaries_and_tenures = [(83000, 8.7), (88000, 8.1),\n",
    "                        (48000, 0.7), (76000, 6),\n",
    "                        (69000, 6.5), (76000, 7.5),\n",
    "                        (60000, 2.5), (83000, 10),\n",
    "                        (48000, 1.9), (63000, 4.2)]\n",
    "\n",
    "# Keys are years, values are lists of the salaries for each tenure.\n",
    "salary_by_tenure = defaultdict(list)\n",
    "\n",
    "for salary, tenure in salaries_and_tenures:\n",
    "    salary_by_tenure[tenure].append(salary)\n",
    "\n",
    "# Keys are years, each value is average salary for that tenure.\n",
    "average_salary_by_tenure = {\n",
    "    tenure: sum(salaries) / len(salaries)\n",
    "    for tenure, salaries in salary_by_tenure.items()\n",
    "}\n",
    "assert average_salary_by_tenure == {\n",
    "    0.7: 48000.0,\n",
    "    1.9: 48000.0,\n",
    "    2.5: 60000.0,\n",
    "    4.2: 63000.0,\n",
    "    6: 76000.0,\n",
    "    6.5: 69000.0,\n",
    "    7.5: 76000.0,\n",
    "    8.1: 88000.0,\n",
    "    8.7: 83000.0,\n",
    "    10: 83000.0\n",
    "}\n",
    "\n",
    "average_salary_by_tenure"
   ]
  },
  {
   "cell_type": "code",
   "execution_count": 178,
   "id": "d9389d95",
   "metadata": {},
   "outputs": [
    {
     "data": {
      "text/plain": [
       "OrderedDict([(0.7, 48000.0),\n",
       "             (1.9, 48000.0),\n",
       "             (2.5, 60000.0),\n",
       "             (4.2, 63000.0),\n",
       "             (6, 76000.0),\n",
       "             (6.5, 69000.0),\n",
       "             (7.5, 76000.0),\n",
       "             (8.1, 88000.0),\n",
       "             (8.7, 83000.0),\n",
       "             (10, 83000.0)])"
      ]
     },
     "execution_count": 178,
     "metadata": {},
     "output_type": "execute_result"
    }
   ],
   "source": [
    "import collections\n",
    "od = collections.OrderedDict(sorted(average_salary_by_tenure.items()))\n",
    "od"
   ]
  },
  {
   "cell_type": "code",
   "execution_count": 179,
   "id": "f92e4376",
   "metadata": {},
   "outputs": [],
   "source": [
    "def tenure_bucket(tenure):\n",
    "    if tenure < 2:\n",
    "        return \"less than two\"\n",
    "    elif tenure < 5:\n",
    "        return \"between two and five\"\n",
    "    else:\n",
    "        return \"more than five\""
   ]
  },
  {
   "cell_type": "code",
   "execution_count": 181,
   "id": "d472fe22",
   "metadata": {},
   "outputs": [
    {
     "data": {
      "text/plain": [
       "defaultdict(list,\n",
       "            {'more than five': [83000, 88000, 76000, 69000, 76000, 83000],\n",
       "             'less than two': [48000, 48000],\n",
       "             'between two and five': [60000, 63000]})"
      ]
     },
     "execution_count": 181,
     "metadata": {},
     "output_type": "execute_result"
    }
   ],
   "source": [
    "# Keys are tenure buckets, values are lists of salaries for that bucket.\n",
    "salary_by_tenure_bucket = defaultdict(list)\n",
    "\n",
    "for salary, tenure in salaries_and_tenures:\n",
    "    bucket = tenure_bucket(tenure)\n",
    "    salary_by_tenure_bucket[bucket].append(salary)\n",
    "salary_by_tenure_bucket    \n",
    "\n"
   ]
  },
  {
   "cell_type": "code",
   "execution_count": 182,
   "id": "be9ca7a9",
   "metadata": {},
   "outputs": [
    {
     "data": {
      "text/plain": [
       "{'more than five': 79166.66666666667,\n",
       " 'less than two': 48000.0,\n",
       " 'between two and five': 61500.0}"
      ]
     },
     "execution_count": 182,
     "metadata": {},
     "output_type": "execute_result"
    }
   ],
   "source": [
    "# Keys are tenure buckets, values are average salary for that bucket\n",
    "average_salary_by_bucket = {\n",
    "  tenure_bucket: sum(salaries) / len(salaries)\n",
    "  for tenure_bucket, salaries in salary_by_tenure_bucket.items()\n",
    "}\n",
    "\n",
    "average_salary_by_bucket"
   ]
  },
  {
   "cell_type": "code",
   "execution_count": 183,
   "id": "7e91e237",
   "metadata": {},
   "outputs": [
    {
     "data": {
      "text/plain": [
       "Counter({'hadoop': 2,\n",
       "         'big': 3,\n",
       "         'data': 3,\n",
       "         'hbase': 2,\n",
       "         'java': 3,\n",
       "         'spark': 1,\n",
       "         'storm': 1,\n",
       "         'cassandra': 2,\n",
       "         'nosql': 1,\n",
       "         'mongodb': 1,\n",
       "         'postgres': 1,\n",
       "         'python': 3,\n",
       "         'scikit-learn': 2,\n",
       "         'scipy': 1,\n",
       "         'numpy': 1,\n",
       "         'statsmodels': 1,\n",
       "         'pandas': 1,\n",
       "         'r': 2,\n",
       "         'statistics': 2,\n",
       "         'regression': 2,\n",
       "         'probability': 2,\n",
       "         'machine': 2,\n",
       "         'learning': 3,\n",
       "         'decision': 1,\n",
       "         'trees': 1,\n",
       "         'libsvm': 1,\n",
       "         'c++': 1,\n",
       "         'haskell': 1,\n",
       "         'programming': 1,\n",
       "         'languages': 1,\n",
       "         'mathematics': 1,\n",
       "         'theory': 1,\n",
       "         'mahout': 1,\n",
       "         'neural': 2,\n",
       "         'networks': 2,\n",
       "         'deep': 1,\n",
       "         'artificial': 1,\n",
       "         'intelligence': 1,\n",
       "         'mapreduce': 1})"
      ]
     },
     "execution_count": 183,
     "metadata": {},
     "output_type": "execute_result"
    }
   ],
   "source": [
    "words_and_counts = Counter(word\n",
    "                           for user, interest in interests\n",
    "                           for word in interest.lower().split())\n",
    "\n",
    "\n",
    "words_and_counts"
   ]
  },
  {
   "cell_type": "code",
   "execution_count": 184,
   "id": "13f58c89",
   "metadata": {},
   "outputs": [
    {
     "name": "stdout",
     "output_type": "stream",
     "text": [
      "big 3\n",
      "data 3\n",
      "java 3\n",
      "python 3\n",
      "learning 3\n",
      "hadoop 2\n",
      "hbase 2\n",
      "cassandra 2\n",
      "scikit-learn 2\n",
      "r 2\n",
      "statistics 2\n",
      "regression 2\n",
      "probability 2\n",
      "machine 2\n",
      "neural 2\n",
      "networks 2\n"
     ]
    }
   ],
   "source": [
    "for word, count in words_and_counts.most_common():\n",
    "    if count > 1:\n",
    "        print(word, count)"
   ]
  },
  {
   "cell_type": "markdown",
   "id": "cbf054ea-c1b9-4030-a2fe-1e00a757c2d6",
   "metadata": {},
   "source": [
    "---"
   ]
  },
  {
   "cell_type": "markdown",
   "id": "97b6cd7e-198f-4c8c-9c05-9a972fa6c29f",
   "metadata": {},
   "source": [
    " "
   ]
  }
 ],
 "metadata": {
  "kernelspec": {
   "display_name": "Python 3",
   "language": "python",
   "name": "python3"
  },
  "language_info": {
   "codemirror_mode": {
    "name": "ipython",
    "version": 3
   },
   "file_extension": ".py",
   "mimetype": "text/x-python",
   "name": "python",
   "nbconvert_exporter": "python",
   "pygments_lexer": "ipython3",
   "version": "3.8.8"
  },
  "widgets": {
   "application/vnd.jupyter.widget-state+json": {
    "state": {},
    "version_major": 2,
    "version_minor": 0
   }
  }
 },
 "nbformat": 4,
 "nbformat_minor": 5
}
